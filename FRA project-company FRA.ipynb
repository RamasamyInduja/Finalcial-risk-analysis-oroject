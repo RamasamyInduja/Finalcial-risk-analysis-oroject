{
 "cells": [
  {
   "cell_type": "code",
   "execution_count": 1,
   "metadata": {},
   "outputs": [],
   "source": [
    "# Importing the libraries\n",
    "import numpy as np\n",
    "import matplotlib.pyplot as plt\n",
    "import pandas as pd\n",
    "import seaborn as sns # for making plots with seaborn\n",
    "color = sns.color_palette()\n",
    "import sklearn.metrics as metrics \n",
    "\n",
    "import warnings\n",
    "warnings.filterwarnings(\"ignore\")"
   ]
  },
  {
   "cell_type": "code",
   "execution_count": 2,
   "metadata": {},
   "outputs": [
    {
     "data": {
      "text/html": [
       "<div>\n",
       "<style scoped>\n",
       "    .dataframe tbody tr th:only-of-type {\n",
       "        vertical-align: middle;\n",
       "    }\n",
       "\n",
       "    .dataframe tbody tr th {\n",
       "        vertical-align: top;\n",
       "    }\n",
       "\n",
       "    .dataframe thead th {\n",
       "        text-align: right;\n",
       "    }\n",
       "</style>\n",
       "<table border=\"1\" class=\"dataframe\">\n",
       "  <thead>\n",
       "    <tr style=\"text-align: right;\">\n",
       "      <th></th>\n",
       "      <th>Num</th>\n",
       "      <th>Networth Next Year</th>\n",
       "      <th>Total assets</th>\n",
       "      <th>Net worth</th>\n",
       "      <th>Total income</th>\n",
       "      <th>Change in stock</th>\n",
       "      <th>Total expenses</th>\n",
       "      <th>Profit after tax</th>\n",
       "      <th>PBDITA</th>\n",
       "      <th>PBT</th>\n",
       "      <th>...</th>\n",
       "      <th>Debtors turnover</th>\n",
       "      <th>Finished goods turnover</th>\n",
       "      <th>WIP turnover</th>\n",
       "      <th>Raw material turnover</th>\n",
       "      <th>Shares outstanding</th>\n",
       "      <th>Equity face value</th>\n",
       "      <th>EPS</th>\n",
       "      <th>Adjusted EPS</th>\n",
       "      <th>Total liabilities</th>\n",
       "      <th>PE on BSE</th>\n",
       "    </tr>\n",
       "  </thead>\n",
       "  <tbody>\n",
       "    <tr>\n",
       "      <th>0</th>\n",
       "      <td>1</td>\n",
       "      <td>395.3</td>\n",
       "      <td>827.6</td>\n",
       "      <td>336.5</td>\n",
       "      <td>534.1</td>\n",
       "      <td>13.5</td>\n",
       "      <td>508.7</td>\n",
       "      <td>38.9</td>\n",
       "      <td>124.4</td>\n",
       "      <td>64.6</td>\n",
       "      <td>...</td>\n",
       "      <td>5.65</td>\n",
       "      <td>3.99</td>\n",
       "      <td>3.37</td>\n",
       "      <td>14.87</td>\n",
       "      <td>8760056.0</td>\n",
       "      <td>10.0</td>\n",
       "      <td>4.44</td>\n",
       "      <td>4.44</td>\n",
       "      <td>827.6</td>\n",
       "      <td>NaN</td>\n",
       "    </tr>\n",
       "    <tr>\n",
       "      <th>1</th>\n",
       "      <td>2</td>\n",
       "      <td>36.2</td>\n",
       "      <td>67.7</td>\n",
       "      <td>24.3</td>\n",
       "      <td>137.9</td>\n",
       "      <td>-3.7</td>\n",
       "      <td>131.0</td>\n",
       "      <td>3.2</td>\n",
       "      <td>5.5</td>\n",
       "      <td>1.0</td>\n",
       "      <td>...</td>\n",
       "      <td>NaN</td>\n",
       "      <td>NaN</td>\n",
       "      <td>NaN</td>\n",
       "      <td>NaN</td>\n",
       "      <td>NaN</td>\n",
       "      <td>NaN</td>\n",
       "      <td>0.00</td>\n",
       "      <td>0.00</td>\n",
       "      <td>67.7</td>\n",
       "      <td>NaN</td>\n",
       "    </tr>\n",
       "    <tr>\n",
       "      <th>2</th>\n",
       "      <td>3</td>\n",
       "      <td>84.0</td>\n",
       "      <td>238.4</td>\n",
       "      <td>78.9</td>\n",
       "      <td>331.2</td>\n",
       "      <td>-18.1</td>\n",
       "      <td>309.2</td>\n",
       "      <td>3.9</td>\n",
       "      <td>25.8</td>\n",
       "      <td>10.5</td>\n",
       "      <td>...</td>\n",
       "      <td>2.51</td>\n",
       "      <td>17.67</td>\n",
       "      <td>8.76</td>\n",
       "      <td>8.35</td>\n",
       "      <td>NaN</td>\n",
       "      <td>NaN</td>\n",
       "      <td>0.00</td>\n",
       "      <td>0.00</td>\n",
       "      <td>238.4</td>\n",
       "      <td>NaN</td>\n",
       "    </tr>\n",
       "    <tr>\n",
       "      <th>3</th>\n",
       "      <td>4</td>\n",
       "      <td>2041.4</td>\n",
       "      <td>6883.5</td>\n",
       "      <td>1443.3</td>\n",
       "      <td>8448.5</td>\n",
       "      <td>212.2</td>\n",
       "      <td>8482.4</td>\n",
       "      <td>178.3</td>\n",
       "      <td>418.4</td>\n",
       "      <td>185.1</td>\n",
       "      <td>...</td>\n",
       "      <td>1.91</td>\n",
       "      <td>18.14</td>\n",
       "      <td>18.62</td>\n",
       "      <td>11.11</td>\n",
       "      <td>10000000.0</td>\n",
       "      <td>10.0</td>\n",
       "      <td>17.60</td>\n",
       "      <td>17.60</td>\n",
       "      <td>6883.5</td>\n",
       "      <td>NaN</td>\n",
       "    </tr>\n",
       "    <tr>\n",
       "      <th>4</th>\n",
       "      <td>5</td>\n",
       "      <td>41.8</td>\n",
       "      <td>90.9</td>\n",
       "      <td>47.0</td>\n",
       "      <td>388.6</td>\n",
       "      <td>3.4</td>\n",
       "      <td>392.7</td>\n",
       "      <td>-0.7</td>\n",
       "      <td>7.2</td>\n",
       "      <td>-0.6</td>\n",
       "      <td>...</td>\n",
       "      <td>68.00</td>\n",
       "      <td>45.87</td>\n",
       "      <td>28.67</td>\n",
       "      <td>19.93</td>\n",
       "      <td>107315.0</td>\n",
       "      <td>100.0</td>\n",
       "      <td>-6.52</td>\n",
       "      <td>-6.52</td>\n",
       "      <td>90.9</td>\n",
       "      <td>NaN</td>\n",
       "    </tr>\n",
       "  </tbody>\n",
       "</table>\n",
       "<p>5 rows × 51 columns</p>\n",
       "</div>"
      ],
      "text/plain": [
       "   Num  Networth Next Year  Total assets  Net worth  Total income  \\\n",
       "0    1               395.3         827.6      336.5         534.1   \n",
       "1    2                36.2          67.7       24.3         137.9   \n",
       "2    3                84.0         238.4       78.9         331.2   \n",
       "3    4              2041.4        6883.5     1443.3        8448.5   \n",
       "4    5                41.8          90.9       47.0         388.6   \n",
       "\n",
       "   Change in stock  Total expenses  Profit after tax  PBDITA    PBT  ...  \\\n",
       "0             13.5           508.7              38.9   124.4   64.6  ...   \n",
       "1             -3.7           131.0               3.2     5.5    1.0  ...   \n",
       "2            -18.1           309.2               3.9    25.8   10.5  ...   \n",
       "3            212.2          8482.4             178.3   418.4  185.1  ...   \n",
       "4              3.4           392.7              -0.7     7.2   -0.6  ...   \n",
       "\n",
       "   Debtors turnover  Finished goods turnover  WIP turnover  \\\n",
       "0              5.65                     3.99          3.37   \n",
       "1               NaN                      NaN           NaN   \n",
       "2              2.51                    17.67          8.76   \n",
       "3              1.91                    18.14         18.62   \n",
       "4             68.00                    45.87         28.67   \n",
       "\n",
       "   Raw material turnover  Shares outstanding  Equity face value    EPS  \\\n",
       "0                  14.87           8760056.0               10.0   4.44   \n",
       "1                    NaN                 NaN                NaN   0.00   \n",
       "2                   8.35                 NaN                NaN   0.00   \n",
       "3                  11.11          10000000.0               10.0  17.60   \n",
       "4                  19.93            107315.0              100.0  -6.52   \n",
       "\n",
       "   Adjusted EPS  Total liabilities  PE on BSE  \n",
       "0          4.44              827.6        NaN  \n",
       "1          0.00               67.7        NaN  \n",
       "2          0.00              238.4        NaN  \n",
       "3         17.60             6883.5        NaN  \n",
       "4         -6.52               90.9        NaN  \n",
       "\n",
       "[5 rows x 51 columns]"
      ]
     },
     "execution_count": 2,
     "metadata": {},
     "output_type": "execute_result"
    }
   ],
   "source": [
    "Company = pd.read_csv('Company(FRA).csv')\n",
    "\n",
    "#Glimpse of Data\n",
    "Company.head()"
   ]
  },
  {
   "cell_type": "code",
   "execution_count": 3,
   "metadata": {},
   "outputs": [],
   "source": [
    "Company.columns = Company.columns.str.replace(' ', '_').str.replace('(', '').str.replace(')', '').str.replace('%', 'perc').str.replace('/', '_to_')"
   ]
  },
  {
   "cell_type": "code",
   "execution_count": 4,
   "metadata": {},
   "outputs": [
    {
     "data": {
      "text/html": [
       "<div>\n",
       "<style scoped>\n",
       "    .dataframe tbody tr th:only-of-type {\n",
       "        vertical-align: middle;\n",
       "    }\n",
       "\n",
       "    .dataframe tbody tr th {\n",
       "        vertical-align: top;\n",
       "    }\n",
       "\n",
       "    .dataframe thead th {\n",
       "        text-align: right;\n",
       "    }\n",
       "</style>\n",
       "<table border=\"1\" class=\"dataframe\">\n",
       "  <thead>\n",
       "    <tr style=\"text-align: right;\">\n",
       "      <th></th>\n",
       "      <th>Num</th>\n",
       "      <th>Networth_Next_Year</th>\n",
       "      <th>Total_assets</th>\n",
       "      <th>Net_worth</th>\n",
       "      <th>Total_income</th>\n",
       "      <th>Change_in_stock</th>\n",
       "      <th>Total_expenses</th>\n",
       "      <th>Profit_after_tax</th>\n",
       "      <th>PBDITA</th>\n",
       "      <th>PBT</th>\n",
       "      <th>...</th>\n",
       "      <th>Debtors_turnover</th>\n",
       "      <th>Finished_goods_turnover</th>\n",
       "      <th>WIP_turnover</th>\n",
       "      <th>Raw_material_turnover</th>\n",
       "      <th>Shares_outstanding</th>\n",
       "      <th>Equity_face_value</th>\n",
       "      <th>EPS</th>\n",
       "      <th>Adjusted_EPS</th>\n",
       "      <th>Total_liabilities</th>\n",
       "      <th>PE_on_BSE</th>\n",
       "    </tr>\n",
       "  </thead>\n",
       "  <tbody>\n",
       "    <tr>\n",
       "      <th>0</th>\n",
       "      <td>1</td>\n",
       "      <td>395.3</td>\n",
       "      <td>827.6</td>\n",
       "      <td>336.5</td>\n",
       "      <td>534.1</td>\n",
       "      <td>13.5</td>\n",
       "      <td>508.7</td>\n",
       "      <td>38.9</td>\n",
       "      <td>124.4</td>\n",
       "      <td>64.6</td>\n",
       "      <td>...</td>\n",
       "      <td>5.65</td>\n",
       "      <td>3.99</td>\n",
       "      <td>3.37</td>\n",
       "      <td>14.87</td>\n",
       "      <td>8760056.0</td>\n",
       "      <td>10.0</td>\n",
       "      <td>4.44</td>\n",
       "      <td>4.44</td>\n",
       "      <td>827.6</td>\n",
       "      <td>NaN</td>\n",
       "    </tr>\n",
       "    <tr>\n",
       "      <th>1</th>\n",
       "      <td>2</td>\n",
       "      <td>36.2</td>\n",
       "      <td>67.7</td>\n",
       "      <td>24.3</td>\n",
       "      <td>137.9</td>\n",
       "      <td>-3.7</td>\n",
       "      <td>131.0</td>\n",
       "      <td>3.2</td>\n",
       "      <td>5.5</td>\n",
       "      <td>1.0</td>\n",
       "      <td>...</td>\n",
       "      <td>NaN</td>\n",
       "      <td>NaN</td>\n",
       "      <td>NaN</td>\n",
       "      <td>NaN</td>\n",
       "      <td>NaN</td>\n",
       "      <td>NaN</td>\n",
       "      <td>0.00</td>\n",
       "      <td>0.00</td>\n",
       "      <td>67.7</td>\n",
       "      <td>NaN</td>\n",
       "    </tr>\n",
       "    <tr>\n",
       "      <th>2</th>\n",
       "      <td>3</td>\n",
       "      <td>84.0</td>\n",
       "      <td>238.4</td>\n",
       "      <td>78.9</td>\n",
       "      <td>331.2</td>\n",
       "      <td>-18.1</td>\n",
       "      <td>309.2</td>\n",
       "      <td>3.9</td>\n",
       "      <td>25.8</td>\n",
       "      <td>10.5</td>\n",
       "      <td>...</td>\n",
       "      <td>2.51</td>\n",
       "      <td>17.67</td>\n",
       "      <td>8.76</td>\n",
       "      <td>8.35</td>\n",
       "      <td>NaN</td>\n",
       "      <td>NaN</td>\n",
       "      <td>0.00</td>\n",
       "      <td>0.00</td>\n",
       "      <td>238.4</td>\n",
       "      <td>NaN</td>\n",
       "    </tr>\n",
       "    <tr>\n",
       "      <th>3</th>\n",
       "      <td>4</td>\n",
       "      <td>2041.4</td>\n",
       "      <td>6883.5</td>\n",
       "      <td>1443.3</td>\n",
       "      <td>8448.5</td>\n",
       "      <td>212.2</td>\n",
       "      <td>8482.4</td>\n",
       "      <td>178.3</td>\n",
       "      <td>418.4</td>\n",
       "      <td>185.1</td>\n",
       "      <td>...</td>\n",
       "      <td>1.91</td>\n",
       "      <td>18.14</td>\n",
       "      <td>18.62</td>\n",
       "      <td>11.11</td>\n",
       "      <td>10000000.0</td>\n",
       "      <td>10.0</td>\n",
       "      <td>17.60</td>\n",
       "      <td>17.60</td>\n",
       "      <td>6883.5</td>\n",
       "      <td>NaN</td>\n",
       "    </tr>\n",
       "    <tr>\n",
       "      <th>4</th>\n",
       "      <td>5</td>\n",
       "      <td>41.8</td>\n",
       "      <td>90.9</td>\n",
       "      <td>47.0</td>\n",
       "      <td>388.6</td>\n",
       "      <td>3.4</td>\n",
       "      <td>392.7</td>\n",
       "      <td>-0.7</td>\n",
       "      <td>7.2</td>\n",
       "      <td>-0.6</td>\n",
       "      <td>...</td>\n",
       "      <td>68.00</td>\n",
       "      <td>45.87</td>\n",
       "      <td>28.67</td>\n",
       "      <td>19.93</td>\n",
       "      <td>107315.0</td>\n",
       "      <td>100.0</td>\n",
       "      <td>-6.52</td>\n",
       "      <td>-6.52</td>\n",
       "      <td>90.9</td>\n",
       "      <td>NaN</td>\n",
       "    </tr>\n",
       "  </tbody>\n",
       "</table>\n",
       "<p>5 rows × 51 columns</p>\n",
       "</div>"
      ],
      "text/plain": [
       "   Num  Networth_Next_Year  Total_assets  Net_worth  Total_income  \\\n",
       "0    1               395.3         827.6      336.5         534.1   \n",
       "1    2                36.2          67.7       24.3         137.9   \n",
       "2    3                84.0         238.4       78.9         331.2   \n",
       "3    4              2041.4        6883.5     1443.3        8448.5   \n",
       "4    5                41.8          90.9       47.0         388.6   \n",
       "\n",
       "   Change_in_stock  Total_expenses  Profit_after_tax  PBDITA    PBT  ...  \\\n",
       "0             13.5           508.7              38.9   124.4   64.6  ...   \n",
       "1             -3.7           131.0               3.2     5.5    1.0  ...   \n",
       "2            -18.1           309.2               3.9    25.8   10.5  ...   \n",
       "3            212.2          8482.4             178.3   418.4  185.1  ...   \n",
       "4              3.4           392.7              -0.7     7.2   -0.6  ...   \n",
       "\n",
       "   Debtors_turnover  Finished_goods_turnover  WIP_turnover  \\\n",
       "0              5.65                     3.99          3.37   \n",
       "1               NaN                      NaN           NaN   \n",
       "2              2.51                    17.67          8.76   \n",
       "3              1.91                    18.14         18.62   \n",
       "4             68.00                    45.87         28.67   \n",
       "\n",
       "   Raw_material_turnover  Shares_outstanding  Equity_face_value    EPS  \\\n",
       "0                  14.87           8760056.0               10.0   4.44   \n",
       "1                    NaN                 NaN                NaN   0.00   \n",
       "2                   8.35                 NaN                NaN   0.00   \n",
       "3                  11.11          10000000.0               10.0  17.60   \n",
       "4                  19.93            107315.0              100.0  -6.52   \n",
       "\n",
       "   Adjusted_EPS  Total_liabilities  PE_on_BSE  \n",
       "0          4.44              827.6        NaN  \n",
       "1          0.00               67.7        NaN  \n",
       "2          0.00              238.4        NaN  \n",
       "3         17.60             6883.5        NaN  \n",
       "4         -6.52               90.9        NaN  \n",
       "\n",
       "[5 rows x 51 columns]"
      ]
     },
     "execution_count": 4,
     "metadata": {},
     "output_type": "execute_result"
    }
   ],
   "source": [
    "Company.head()"
   ]
  },
  {
   "cell_type": "markdown",
   "metadata": {},
   "source": [
    "#### Now, let us check the number of rows (observations) and the number of columns (variables)"
   ]
  },
  {
   "cell_type": "code",
   "execution_count": 5,
   "metadata": {},
   "outputs": [
    {
     "name": "stdout",
     "output_type": "stream",
     "text": [
      "The number of rows (observations) is 4256 \n",
      "The number of columns (variables) is 51\n"
     ]
    }
   ],
   "source": [
    "print('The number of rows (observations) is',Company.shape[0],'\\n''The number of columns (variables) is',Company.shape[1])"
   ]
  },
  {
   "cell_type": "markdown",
   "metadata": {},
   "source": [
    "#### Checking datatype of all columns"
   ]
  },
  {
   "cell_type": "code",
   "execution_count": 6,
   "metadata": {},
   "outputs": [
    {
     "name": "stdout",
     "output_type": "stream",
     "text": [
      "<class 'pandas.core.frame.DataFrame'>\n",
      "RangeIndex: 4256 entries, 0 to 4255\n",
      "Data columns (total 51 columns):\n",
      " #   Column                                          Non-Null Count  Dtype  \n",
      "---  ------                                          --------------  -----  \n",
      " 0   Num                                             4256 non-null   int64  \n",
      " 1   Networth_Next_Year                              4256 non-null   float64\n",
      " 2   Total_assets                                    4256 non-null   float64\n",
      " 3   Net_worth                                       4256 non-null   float64\n",
      " 4   Total_income                                    4025 non-null   float64\n",
      " 5   Change_in_stock                                 3706 non-null   float64\n",
      " 6   Total_expenses                                  4091 non-null   float64\n",
      " 7   Profit_after_tax                                4102 non-null   float64\n",
      " 8   PBDITA                                          4102 non-null   float64\n",
      " 9   PBT                                             4102 non-null   float64\n",
      " 10  Cash_profit                                     4102 non-null   float64\n",
      " 11  PBDITA_as_perc_of_total_income                  4177 non-null   float64\n",
      " 12  PBT_as_perc_of_total_income                     4177 non-null   float64\n",
      " 13  PAT_as_perc_of_total_income                     4177 non-null   float64\n",
      " 14  Cash_profit_as_perc_of_total_income             4177 non-null   float64\n",
      " 15  PAT_as_perc_of_net_worth                        4256 non-null   float64\n",
      " 16  Sales                                           3951 non-null   float64\n",
      " 17  Income_from_fincial_services                    3145 non-null   float64\n",
      " 18  Other_income                                    2700 non-null   float64\n",
      " 19  Total_capital                                   4251 non-null   float64\n",
      " 20  Reserves_and_funds                              4158 non-null   float64\n",
      " 21  Borrowings                                      3825 non-null   float64\n",
      " 22  Current_liabilities_&_provisions                4146 non-null   float64\n",
      " 23  Deferred_tax_liability                          2887 non-null   float64\n",
      " 24  Shareholders_funds                              4256 non-null   float64\n",
      " 25  Cumulative_retained_profits                     4211 non-null   float64\n",
      " 26  Capital_employed                                4256 non-null   float64\n",
      " 27  TOL_to_TNW                                      4256 non-null   float64\n",
      " 28  Total_term_liabilities__to__tangible_net_worth  4256 non-null   float64\n",
      " 29  Contingent_liabilities__to__Net_worth_perc      4256 non-null   float64\n",
      " 30  Contingent_liabilities                          2854 non-null   float64\n",
      " 31  Net_fixed_assets                                4124 non-null   float64\n",
      " 32  Investments                                     2541 non-null   float64\n",
      " 33  Current_assets                                  4176 non-null   float64\n",
      " 34  Net_working_capital                             4219 non-null   float64\n",
      " 35  Quick_ratio_times                               4151 non-null   float64\n",
      " 36  Current_ratio_times                             4151 non-null   float64\n",
      " 37  Debt_to_equity_ratio_times                      4256 non-null   float64\n",
      " 38  Cash_to_current_liabilities_times               4151 non-null   float64\n",
      " 39  Cash_to_average_cost_of_sales_per_day           4156 non-null   float64\n",
      " 40  Creditors_turnover                              3865 non-null   float64\n",
      " 41  Debtors_turnover                                3871 non-null   float64\n",
      " 42  Finished_goods_turnover                         3382 non-null   float64\n",
      " 43  WIP_turnover                                    3492 non-null   float64\n",
      " 44  Raw_material_turnover                           3828 non-null   float64\n",
      " 45  Shares_outstanding                              3446 non-null   float64\n",
      " 46  Equity_face_value                               3446 non-null   float64\n",
      " 47  EPS                                             4256 non-null   float64\n",
      " 48  Adjusted_EPS                                    4256 non-null   float64\n",
      " 49  Total_liabilities                               4256 non-null   float64\n",
      " 50  PE_on_BSE                                       1629 non-null   float64\n",
      "dtypes: float64(50), int64(1)\n",
      "memory usage: 1.7 MB\n"
     ]
    }
   ],
   "source": [
    "Company.info()"
   ]
  },
  {
   "cell_type": "markdown",
   "metadata": {},
   "source": [
    "#### Now, let us check the basic measures of descriptive statistics for the continuous variables"
   ]
  },
  {
   "cell_type": "code",
   "execution_count": 7,
   "metadata": {},
   "outputs": [
    {
     "data": {
      "text/html": [
       "<div>\n",
       "<style scoped>\n",
       "    .dataframe tbody tr th:only-of-type {\n",
       "        vertical-align: middle;\n",
       "    }\n",
       "\n",
       "    .dataframe tbody tr th {\n",
       "        vertical-align: top;\n",
       "    }\n",
       "\n",
       "    .dataframe thead th {\n",
       "        text-align: right;\n",
       "    }\n",
       "</style>\n",
       "<table border=\"1\" class=\"dataframe\">\n",
       "  <thead>\n",
       "    <tr style=\"text-align: right;\">\n",
       "      <th></th>\n",
       "      <th>Num</th>\n",
       "      <th>Networth_Next_Year</th>\n",
       "      <th>Total_assets</th>\n",
       "      <th>Net_worth</th>\n",
       "      <th>Total_income</th>\n",
       "      <th>Change_in_stock</th>\n",
       "      <th>Total_expenses</th>\n",
       "      <th>Profit_after_tax</th>\n",
       "      <th>PBDITA</th>\n",
       "      <th>PBT</th>\n",
       "      <th>...</th>\n",
       "      <th>Debtors_turnover</th>\n",
       "      <th>Finished_goods_turnover</th>\n",
       "      <th>WIP_turnover</th>\n",
       "      <th>Raw_material_turnover</th>\n",
       "      <th>Shares_outstanding</th>\n",
       "      <th>Equity_face_value</th>\n",
       "      <th>EPS</th>\n",
       "      <th>Adjusted_EPS</th>\n",
       "      <th>Total_liabilities</th>\n",
       "      <th>PE_on_BSE</th>\n",
       "    </tr>\n",
       "  </thead>\n",
       "  <tbody>\n",
       "    <tr>\n",
       "      <th>count</th>\n",
       "      <td>4256.000000</td>\n",
       "      <td>4256.000000</td>\n",
       "      <td>4.256000e+03</td>\n",
       "      <td>4256.000000</td>\n",
       "      <td>4.025000e+03</td>\n",
       "      <td>3706.000000</td>\n",
       "      <td>4.091000e+03</td>\n",
       "      <td>4102.000000</td>\n",
       "      <td>4102.000000</td>\n",
       "      <td>4102.000000</td>\n",
       "      <td>...</td>\n",
       "      <td>3871.000000</td>\n",
       "      <td>3382.000000</td>\n",
       "      <td>3492.000000</td>\n",
       "      <td>3828.000000</td>\n",
       "      <td>3.446000e+03</td>\n",
       "      <td>3446.000000</td>\n",
       "      <td>4256.000000</td>\n",
       "      <td>4256.000000</td>\n",
       "      <td>4.256000e+03</td>\n",
       "      <td>1629.000000</td>\n",
       "    </tr>\n",
       "    <tr>\n",
       "      <th>mean</th>\n",
       "      <td>2128.500000</td>\n",
       "      <td>1344.740883</td>\n",
       "      <td>3.573617e+03</td>\n",
       "      <td>1351.949601</td>\n",
       "      <td>4.688190e+03</td>\n",
       "      <td>43.702482</td>\n",
       "      <td>4.356301e+03</td>\n",
       "      <td>295.050585</td>\n",
       "      <td>605.940639</td>\n",
       "      <td>410.259044</td>\n",
       "      <td>...</td>\n",
       "      <td>17.929029</td>\n",
       "      <td>84.369988</td>\n",
       "      <td>28.684513</td>\n",
       "      <td>17.733926</td>\n",
       "      <td>2.376491e+07</td>\n",
       "      <td>-1094.828671</td>\n",
       "      <td>-196.217467</td>\n",
       "      <td>-197.527608</td>\n",
       "      <td>3.573617e+03</td>\n",
       "      <td>55.462290</td>\n",
       "    </tr>\n",
       "    <tr>\n",
       "      <th>std</th>\n",
       "      <td>1228.745702</td>\n",
       "      <td>15936.743168</td>\n",
       "      <td>3.007444e+04</td>\n",
       "      <td>12961.311651</td>\n",
       "      <td>5.391895e+04</td>\n",
       "      <td>436.915048</td>\n",
       "      <td>5.139809e+04</td>\n",
       "      <td>3079.902071</td>\n",
       "      <td>5646.230633</td>\n",
       "      <td>4217.415307</td>\n",
       "      <td>...</td>\n",
       "      <td>90.164435</td>\n",
       "      <td>562.637359</td>\n",
       "      <td>169.650915</td>\n",
       "      <td>343.125864</td>\n",
       "      <td>1.709790e+08</td>\n",
       "      <td>34101.358644</td>\n",
       "      <td>13061.953425</td>\n",
       "      <td>13061.929512</td>\n",
       "      <td>3.007444e+04</td>\n",
       "      <td>1304.445296</td>\n",
       "    </tr>\n",
       "    <tr>\n",
       "      <th>min</th>\n",
       "      <td>1.000000</td>\n",
       "      <td>-74265.600000</td>\n",
       "      <td>1.000000e-01</td>\n",
       "      <td>0.000000</td>\n",
       "      <td>0.000000e+00</td>\n",
       "      <td>-3029.400000</td>\n",
       "      <td>-1.000000e-01</td>\n",
       "      <td>-3908.300000</td>\n",
       "      <td>-440.700000</td>\n",
       "      <td>-3894.800000</td>\n",
       "      <td>...</td>\n",
       "      <td>0.000000</td>\n",
       "      <td>-0.090000</td>\n",
       "      <td>-0.180000</td>\n",
       "      <td>-2.000000</td>\n",
       "      <td>-2.147484e+09</td>\n",
       "      <td>-999998.900000</td>\n",
       "      <td>-843181.820000</td>\n",
       "      <td>-843181.820000</td>\n",
       "      <td>1.000000e-01</td>\n",
       "      <td>-1116.640000</td>\n",
       "    </tr>\n",
       "    <tr>\n",
       "      <th>25%</th>\n",
       "      <td>1064.750000</td>\n",
       "      <td>3.975000</td>\n",
       "      <td>9.130000e+01</td>\n",
       "      <td>31.475000</td>\n",
       "      <td>1.071000e+02</td>\n",
       "      <td>-1.800000</td>\n",
       "      <td>9.680000e+01</td>\n",
       "      <td>0.500000</td>\n",
       "      <td>6.925000</td>\n",
       "      <td>0.800000</td>\n",
       "      <td>...</td>\n",
       "      <td>3.810000</td>\n",
       "      <td>8.190000</td>\n",
       "      <td>5.100000</td>\n",
       "      <td>3.020000</td>\n",
       "      <td>1.308382e+06</td>\n",
       "      <td>10.000000</td>\n",
       "      <td>0.000000</td>\n",
       "      <td>0.000000</td>\n",
       "      <td>9.130000e+01</td>\n",
       "      <td>2.970000</td>\n",
       "    </tr>\n",
       "    <tr>\n",
       "      <th>50%</th>\n",
       "      <td>2128.500000</td>\n",
       "      <td>72.100000</td>\n",
       "      <td>3.155000e+02</td>\n",
       "      <td>104.800000</td>\n",
       "      <td>4.551000e+02</td>\n",
       "      <td>1.600000</td>\n",
       "      <td>4.268000e+02</td>\n",
       "      <td>9.000000</td>\n",
       "      <td>36.900000</td>\n",
       "      <td>12.600000</td>\n",
       "      <td>...</td>\n",
       "      <td>6.470000</td>\n",
       "      <td>17.320000</td>\n",
       "      <td>9.860000</td>\n",
       "      <td>6.410000</td>\n",
       "      <td>4.750000e+06</td>\n",
       "      <td>10.000000</td>\n",
       "      <td>1.490000</td>\n",
       "      <td>1.240000</td>\n",
       "      <td>3.155000e+02</td>\n",
       "      <td>8.690000</td>\n",
       "    </tr>\n",
       "    <tr>\n",
       "      <th>75%</th>\n",
       "      <td>3192.250000</td>\n",
       "      <td>330.825000</td>\n",
       "      <td>1.120800e+03</td>\n",
       "      <td>389.850000</td>\n",
       "      <td>1.485000e+03</td>\n",
       "      <td>18.400000</td>\n",
       "      <td>1.395700e+03</td>\n",
       "      <td>53.300000</td>\n",
       "      <td>158.700000</td>\n",
       "      <td>74.175000</td>\n",
       "      <td>...</td>\n",
       "      <td>11.850000</td>\n",
       "      <td>40.012500</td>\n",
       "      <td>20.240000</td>\n",
       "      <td>11.822500</td>\n",
       "      <td>1.090602e+07</td>\n",
       "      <td>10.000000</td>\n",
       "      <td>10.000000</td>\n",
       "      <td>7.615000</td>\n",
       "      <td>1.120800e+03</td>\n",
       "      <td>17.000000</td>\n",
       "    </tr>\n",
       "    <tr>\n",
       "      <th>max</th>\n",
       "      <td>4256.000000</td>\n",
       "      <td>805773.400000</td>\n",
       "      <td>1.176509e+06</td>\n",
       "      <td>613151.600000</td>\n",
       "      <td>2.442828e+06</td>\n",
       "      <td>14185.500000</td>\n",
       "      <td>2.366035e+06</td>\n",
       "      <td>119439.100000</td>\n",
       "      <td>208576.500000</td>\n",
       "      <td>145292.600000</td>\n",
       "      <td>...</td>\n",
       "      <td>3135.200000</td>\n",
       "      <td>17947.600000</td>\n",
       "      <td>5651.400000</td>\n",
       "      <td>21092.000000</td>\n",
       "      <td>4.130401e+09</td>\n",
       "      <td>100000.000000</td>\n",
       "      <td>34522.530000</td>\n",
       "      <td>34522.530000</td>\n",
       "      <td>1.176509e+06</td>\n",
       "      <td>51002.740000</td>\n",
       "    </tr>\n",
       "  </tbody>\n",
       "</table>\n",
       "<p>8 rows × 51 columns</p>\n",
       "</div>"
      ],
      "text/plain": [
       "               Num  Networth_Next_Year  Total_assets      Net_worth  \\\n",
       "count  4256.000000         4256.000000  4.256000e+03    4256.000000   \n",
       "mean   2128.500000         1344.740883  3.573617e+03    1351.949601   \n",
       "std    1228.745702        15936.743168  3.007444e+04   12961.311651   \n",
       "min       1.000000       -74265.600000  1.000000e-01       0.000000   \n",
       "25%    1064.750000            3.975000  9.130000e+01      31.475000   \n",
       "50%    2128.500000           72.100000  3.155000e+02     104.800000   \n",
       "75%    3192.250000          330.825000  1.120800e+03     389.850000   \n",
       "max    4256.000000       805773.400000  1.176509e+06  613151.600000   \n",
       "\n",
       "       Total_income  Change_in_stock  Total_expenses  Profit_after_tax  \\\n",
       "count  4.025000e+03      3706.000000    4.091000e+03       4102.000000   \n",
       "mean   4.688190e+03        43.702482    4.356301e+03        295.050585   \n",
       "std    5.391895e+04       436.915048    5.139809e+04       3079.902071   \n",
       "min    0.000000e+00     -3029.400000   -1.000000e-01      -3908.300000   \n",
       "25%    1.071000e+02        -1.800000    9.680000e+01          0.500000   \n",
       "50%    4.551000e+02         1.600000    4.268000e+02          9.000000   \n",
       "75%    1.485000e+03        18.400000    1.395700e+03         53.300000   \n",
       "max    2.442828e+06     14185.500000    2.366035e+06     119439.100000   \n",
       "\n",
       "              PBDITA            PBT  ...  Debtors_turnover  \\\n",
       "count    4102.000000    4102.000000  ...       3871.000000   \n",
       "mean      605.940639     410.259044  ...         17.929029   \n",
       "std      5646.230633    4217.415307  ...         90.164435   \n",
       "min      -440.700000   -3894.800000  ...          0.000000   \n",
       "25%         6.925000       0.800000  ...          3.810000   \n",
       "50%        36.900000      12.600000  ...          6.470000   \n",
       "75%       158.700000      74.175000  ...         11.850000   \n",
       "max    208576.500000  145292.600000  ...       3135.200000   \n",
       "\n",
       "       Finished_goods_turnover  WIP_turnover  Raw_material_turnover  \\\n",
       "count              3382.000000   3492.000000            3828.000000   \n",
       "mean                 84.369988     28.684513              17.733926   \n",
       "std                 562.637359    169.650915             343.125864   \n",
       "min                  -0.090000     -0.180000              -2.000000   \n",
       "25%                   8.190000      5.100000               3.020000   \n",
       "50%                  17.320000      9.860000               6.410000   \n",
       "75%                  40.012500     20.240000              11.822500   \n",
       "max               17947.600000   5651.400000           21092.000000   \n",
       "\n",
       "       Shares_outstanding  Equity_face_value            EPS   Adjusted_EPS  \\\n",
       "count        3.446000e+03        3446.000000    4256.000000    4256.000000   \n",
       "mean         2.376491e+07       -1094.828671    -196.217467    -197.527608   \n",
       "std          1.709790e+08       34101.358644   13061.953425   13061.929512   \n",
       "min         -2.147484e+09     -999998.900000 -843181.820000 -843181.820000   \n",
       "25%          1.308382e+06          10.000000       0.000000       0.000000   \n",
       "50%          4.750000e+06          10.000000       1.490000       1.240000   \n",
       "75%          1.090602e+07          10.000000      10.000000       7.615000   \n",
       "max          4.130401e+09      100000.000000   34522.530000   34522.530000   \n",
       "\n",
       "       Total_liabilities     PE_on_BSE  \n",
       "count       4.256000e+03   1629.000000  \n",
       "mean        3.573617e+03     55.462290  \n",
       "std         3.007444e+04   1304.445296  \n",
       "min         1.000000e-01  -1116.640000  \n",
       "25%         9.130000e+01      2.970000  \n",
       "50%         3.155000e+02      8.690000  \n",
       "75%         1.120800e+03     17.000000  \n",
       "max         1.176509e+06  51002.740000  \n",
       "\n",
       "[8 rows x 51 columns]"
      ]
     },
     "execution_count": 7,
     "metadata": {},
     "output_type": "execute_result"
    }
   ],
   "source": [
    "Company.describe()"
   ]
  },
  {
   "cell_type": "code",
   "execution_count": 8,
   "metadata": {},
   "outputs": [
    {
     "data": {
      "text/html": [
       "<div>\n",
       "<style scoped>\n",
       "    .dataframe tbody tr th:only-of-type {\n",
       "        vertical-align: middle;\n",
       "    }\n",
       "\n",
       "    .dataframe tbody tr th {\n",
       "        vertical-align: top;\n",
       "    }\n",
       "\n",
       "    .dataframe thead th {\n",
       "        text-align: right;\n",
       "    }\n",
       "</style>\n",
       "<table border=\"1\" class=\"dataframe\">\n",
       "  <thead>\n",
       "    <tr style=\"text-align: right;\">\n",
       "      <th></th>\n",
       "      <th>Num</th>\n",
       "      <th>Networth_Next_Year</th>\n",
       "      <th>Total_assets</th>\n",
       "      <th>Net_worth</th>\n",
       "      <th>Total_income</th>\n",
       "      <th>Change_in_stock</th>\n",
       "      <th>Total_expenses</th>\n",
       "      <th>Profit_after_tax</th>\n",
       "      <th>PBDITA</th>\n",
       "      <th>PBT</th>\n",
       "      <th>...</th>\n",
       "      <th>Debtors_turnover</th>\n",
       "      <th>Finished_goods_turnover</th>\n",
       "      <th>WIP_turnover</th>\n",
       "      <th>Raw_material_turnover</th>\n",
       "      <th>Shares_outstanding</th>\n",
       "      <th>Equity_face_value</th>\n",
       "      <th>EPS</th>\n",
       "      <th>Adjusted_EPS</th>\n",
       "      <th>Total_liabilities</th>\n",
       "      <th>PE_on_BSE</th>\n",
       "    </tr>\n",
       "  </thead>\n",
       "  <tbody>\n",
       "    <tr>\n",
       "      <th>count</th>\n",
       "      <td>4256.00</td>\n",
       "      <td>4256.00</td>\n",
       "      <td>4256.00</td>\n",
       "      <td>4256.00</td>\n",
       "      <td>4025.00</td>\n",
       "      <td>3706.00</td>\n",
       "      <td>4091.00</td>\n",
       "      <td>4102.00</td>\n",
       "      <td>4102.00</td>\n",
       "      <td>4102.00</td>\n",
       "      <td>...</td>\n",
       "      <td>3871.00</td>\n",
       "      <td>3382.00</td>\n",
       "      <td>3492.00</td>\n",
       "      <td>3828.00</td>\n",
       "      <td>3446.00</td>\n",
       "      <td>3446.00</td>\n",
       "      <td>4256.00</td>\n",
       "      <td>4256.00</td>\n",
       "      <td>4256.00</td>\n",
       "      <td>1629.00</td>\n",
       "    </tr>\n",
       "    <tr>\n",
       "      <th>mean</th>\n",
       "      <td>2128.50</td>\n",
       "      <td>1344.74</td>\n",
       "      <td>3573.62</td>\n",
       "      <td>1351.95</td>\n",
       "      <td>4688.19</td>\n",
       "      <td>43.70</td>\n",
       "      <td>4356.30</td>\n",
       "      <td>295.05</td>\n",
       "      <td>605.94</td>\n",
       "      <td>410.26</td>\n",
       "      <td>...</td>\n",
       "      <td>17.93</td>\n",
       "      <td>84.37</td>\n",
       "      <td>28.68</td>\n",
       "      <td>17.73</td>\n",
       "      <td>23764909.56</td>\n",
       "      <td>-1094.83</td>\n",
       "      <td>-196.22</td>\n",
       "      <td>-197.53</td>\n",
       "      <td>3573.62</td>\n",
       "      <td>55.46</td>\n",
       "    </tr>\n",
       "    <tr>\n",
       "      <th>std</th>\n",
       "      <td>1228.75</td>\n",
       "      <td>15936.74</td>\n",
       "      <td>30074.44</td>\n",
       "      <td>12961.31</td>\n",
       "      <td>53918.95</td>\n",
       "      <td>436.92</td>\n",
       "      <td>51398.09</td>\n",
       "      <td>3079.90</td>\n",
       "      <td>5646.23</td>\n",
       "      <td>4217.42</td>\n",
       "      <td>...</td>\n",
       "      <td>90.16</td>\n",
       "      <td>562.64</td>\n",
       "      <td>169.65</td>\n",
       "      <td>343.13</td>\n",
       "      <td>170979041.33</td>\n",
       "      <td>34101.36</td>\n",
       "      <td>13061.95</td>\n",
       "      <td>13061.93</td>\n",
       "      <td>30074.44</td>\n",
       "      <td>1304.45</td>\n",
       "    </tr>\n",
       "    <tr>\n",
       "      <th>min</th>\n",
       "      <td>1.00</td>\n",
       "      <td>-74265.60</td>\n",
       "      <td>0.10</td>\n",
       "      <td>0.00</td>\n",
       "      <td>0.00</td>\n",
       "      <td>-3029.40</td>\n",
       "      <td>-0.10</td>\n",
       "      <td>-3908.30</td>\n",
       "      <td>-440.70</td>\n",
       "      <td>-3894.80</td>\n",
       "      <td>...</td>\n",
       "      <td>0.00</td>\n",
       "      <td>-0.09</td>\n",
       "      <td>-0.18</td>\n",
       "      <td>-2.00</td>\n",
       "      <td>-2147483647.00</td>\n",
       "      <td>-999998.90</td>\n",
       "      <td>-843181.82</td>\n",
       "      <td>-843181.82</td>\n",
       "      <td>0.10</td>\n",
       "      <td>-1116.64</td>\n",
       "    </tr>\n",
       "    <tr>\n",
       "      <th>25%</th>\n",
       "      <td>1064.75</td>\n",
       "      <td>3.98</td>\n",
       "      <td>91.30</td>\n",
       "      <td>31.48</td>\n",
       "      <td>107.10</td>\n",
       "      <td>-1.80</td>\n",
       "      <td>96.80</td>\n",
       "      <td>0.50</td>\n",
       "      <td>6.93</td>\n",
       "      <td>0.80</td>\n",
       "      <td>...</td>\n",
       "      <td>3.81</td>\n",
       "      <td>8.19</td>\n",
       "      <td>5.10</td>\n",
       "      <td>3.02</td>\n",
       "      <td>1308382.50</td>\n",
       "      <td>10.00</td>\n",
       "      <td>0.00</td>\n",
       "      <td>0.00</td>\n",
       "      <td>91.30</td>\n",
       "      <td>2.97</td>\n",
       "    </tr>\n",
       "    <tr>\n",
       "      <th>50%</th>\n",
       "      <td>2128.50</td>\n",
       "      <td>72.10</td>\n",
       "      <td>315.50</td>\n",
       "      <td>104.80</td>\n",
       "      <td>455.10</td>\n",
       "      <td>1.60</td>\n",
       "      <td>426.80</td>\n",
       "      <td>9.00</td>\n",
       "      <td>36.90</td>\n",
       "      <td>12.60</td>\n",
       "      <td>...</td>\n",
       "      <td>6.47</td>\n",
       "      <td>17.32</td>\n",
       "      <td>9.86</td>\n",
       "      <td>6.41</td>\n",
       "      <td>4750000.00</td>\n",
       "      <td>10.00</td>\n",
       "      <td>1.49</td>\n",
       "      <td>1.24</td>\n",
       "      <td>315.50</td>\n",
       "      <td>8.69</td>\n",
       "    </tr>\n",
       "    <tr>\n",
       "      <th>75%</th>\n",
       "      <td>3192.25</td>\n",
       "      <td>330.83</td>\n",
       "      <td>1120.80</td>\n",
       "      <td>389.85</td>\n",
       "      <td>1485.00</td>\n",
       "      <td>18.40</td>\n",
       "      <td>1395.70</td>\n",
       "      <td>53.30</td>\n",
       "      <td>158.70</td>\n",
       "      <td>74.18</td>\n",
       "      <td>...</td>\n",
       "      <td>11.85</td>\n",
       "      <td>40.01</td>\n",
       "      <td>20.24</td>\n",
       "      <td>11.82</td>\n",
       "      <td>10906020.00</td>\n",
       "      <td>10.00</td>\n",
       "      <td>10.00</td>\n",
       "      <td>7.62</td>\n",
       "      <td>1120.80</td>\n",
       "      <td>17.00</td>\n",
       "    </tr>\n",
       "    <tr>\n",
       "      <th>max</th>\n",
       "      <td>4256.00</td>\n",
       "      <td>805773.40</td>\n",
       "      <td>1176509.20</td>\n",
       "      <td>613151.60</td>\n",
       "      <td>2442828.20</td>\n",
       "      <td>14185.50</td>\n",
       "      <td>2366035.30</td>\n",
       "      <td>119439.10</td>\n",
       "      <td>208576.50</td>\n",
       "      <td>145292.60</td>\n",
       "      <td>...</td>\n",
       "      <td>3135.20</td>\n",
       "      <td>17947.60</td>\n",
       "      <td>5651.40</td>\n",
       "      <td>21092.00</td>\n",
       "      <td>4130400545.00</td>\n",
       "      <td>100000.00</td>\n",
       "      <td>34522.53</td>\n",
       "      <td>34522.53</td>\n",
       "      <td>1176509.20</td>\n",
       "      <td>51002.74</td>\n",
       "    </tr>\n",
       "  </tbody>\n",
       "</table>\n",
       "<p>8 rows × 51 columns</p>\n",
       "</div>"
      ],
      "text/plain": [
       "          Num  Networth_Next_Year  Total_assets  Net_worth  Total_income  \\\n",
       "count 4256.00             4256.00       4256.00    4256.00       4025.00   \n",
       "mean  2128.50             1344.74       3573.62    1351.95       4688.19   \n",
       "std   1228.75            15936.74      30074.44   12961.31      53918.95   \n",
       "min      1.00           -74265.60          0.10       0.00          0.00   \n",
       "25%   1064.75                3.98         91.30      31.48        107.10   \n",
       "50%   2128.50               72.10        315.50     104.80        455.10   \n",
       "75%   3192.25              330.83       1120.80     389.85       1485.00   \n",
       "max   4256.00           805773.40    1176509.20  613151.60    2442828.20   \n",
       "\n",
       "       Change_in_stock  Total_expenses  Profit_after_tax    PBDITA       PBT  \\\n",
       "count          3706.00         4091.00           4102.00   4102.00   4102.00   \n",
       "mean             43.70         4356.30            295.05    605.94    410.26   \n",
       "std             436.92        51398.09           3079.90   5646.23   4217.42   \n",
       "min           -3029.40           -0.10          -3908.30   -440.70  -3894.80   \n",
       "25%              -1.80           96.80              0.50      6.93      0.80   \n",
       "50%               1.60          426.80              9.00     36.90     12.60   \n",
       "75%              18.40         1395.70             53.30    158.70     74.18   \n",
       "max           14185.50      2366035.30         119439.10 208576.50 145292.60   \n",
       "\n",
       "       ...  Debtors_turnover  Finished_goods_turnover  WIP_turnover  \\\n",
       "count  ...           3871.00                  3382.00       3492.00   \n",
       "mean   ...             17.93                    84.37         28.68   \n",
       "std    ...             90.16                   562.64        169.65   \n",
       "min    ...              0.00                    -0.09         -0.18   \n",
       "25%    ...              3.81                     8.19          5.10   \n",
       "50%    ...              6.47                    17.32          9.86   \n",
       "75%    ...             11.85                    40.01         20.24   \n",
       "max    ...           3135.20                 17947.60       5651.40   \n",
       "\n",
       "       Raw_material_turnover  Shares_outstanding  Equity_face_value  \\\n",
       "count                3828.00             3446.00            3446.00   \n",
       "mean                   17.73         23764909.56           -1094.83   \n",
       "std                   343.13        170979041.33           34101.36   \n",
       "min                    -2.00      -2147483647.00         -999998.90   \n",
       "25%                     3.02          1308382.50              10.00   \n",
       "50%                     6.41          4750000.00              10.00   \n",
       "75%                    11.82         10906020.00              10.00   \n",
       "max                 21092.00       4130400545.00          100000.00   \n",
       "\n",
       "             EPS  Adjusted_EPS  Total_liabilities  PE_on_BSE  \n",
       "count    4256.00       4256.00            4256.00    1629.00  \n",
       "mean     -196.22       -197.53            3573.62      55.46  \n",
       "std     13061.95      13061.93           30074.44    1304.45  \n",
       "min   -843181.82    -843181.82               0.10   -1116.64  \n",
       "25%         0.00          0.00              91.30       2.97  \n",
       "50%         1.49          1.24             315.50       8.69  \n",
       "75%        10.00          7.62            1120.80      17.00  \n",
       "max     34522.53      34522.53         1176509.20   51002.74  \n",
       "\n",
       "[8 rows x 51 columns]"
      ]
     },
     "execution_count": 8,
     "metadata": {},
     "output_type": "execute_result"
    }
   ],
   "source": [
    "pd.options.display.float_format = '{:.2f}'.format   \n",
    "\n",
    "Company.describe()"
   ]
  },
  {
   "cell_type": "markdown",
   "metadata": {},
   "source": [
    "#### Creating a binary target variable using 'Networth_Next_Year'"
   ]
  },
  {
   "cell_type": "code",
   "execution_count": 9,
   "metadata": {},
   "outputs": [],
   "source": [
    "Company['default'] = np.where((Company['Networth_Next_Year'] > 0), 0, 1)"
   ]
  },
  {
   "cell_type": "markdown",
   "metadata": {},
   "source": [
    "#### Checking top 10 rows"
   ]
  },
  {
   "cell_type": "code",
   "execution_count": 10,
   "metadata": {},
   "outputs": [
    {
     "data": {
      "text/html": [
       "<div>\n",
       "<style scoped>\n",
       "    .dataframe tbody tr th:only-of-type {\n",
       "        vertical-align: middle;\n",
       "    }\n",
       "\n",
       "    .dataframe tbody tr th {\n",
       "        vertical-align: top;\n",
       "    }\n",
       "\n",
       "    .dataframe thead th {\n",
       "        text-align: right;\n",
       "    }\n",
       "</style>\n",
       "<table border=\"1\" class=\"dataframe\">\n",
       "  <thead>\n",
       "    <tr style=\"text-align: right;\">\n",
       "      <th></th>\n",
       "      <th>default</th>\n",
       "      <th>Networth_Next_Year</th>\n",
       "    </tr>\n",
       "  </thead>\n",
       "  <tbody>\n",
       "    <tr>\n",
       "      <th>0</th>\n",
       "      <td>0</td>\n",
       "      <td>395.30</td>\n",
       "    </tr>\n",
       "    <tr>\n",
       "      <th>1</th>\n",
       "      <td>0</td>\n",
       "      <td>36.20</td>\n",
       "    </tr>\n",
       "    <tr>\n",
       "      <th>2</th>\n",
       "      <td>0</td>\n",
       "      <td>84.00</td>\n",
       "    </tr>\n",
       "    <tr>\n",
       "      <th>3</th>\n",
       "      <td>0</td>\n",
       "      <td>2041.40</td>\n",
       "    </tr>\n",
       "    <tr>\n",
       "      <th>4</th>\n",
       "      <td>0</td>\n",
       "      <td>41.80</td>\n",
       "    </tr>\n",
       "    <tr>\n",
       "      <th>5</th>\n",
       "      <td>0</td>\n",
       "      <td>291.50</td>\n",
       "    </tr>\n",
       "    <tr>\n",
       "      <th>6</th>\n",
       "      <td>0</td>\n",
       "      <td>93.30</td>\n",
       "    </tr>\n",
       "    <tr>\n",
       "      <th>7</th>\n",
       "      <td>0</td>\n",
       "      <td>985.10</td>\n",
       "    </tr>\n",
       "    <tr>\n",
       "      <th>8</th>\n",
       "      <td>0</td>\n",
       "      <td>188.60</td>\n",
       "    </tr>\n",
       "    <tr>\n",
       "      <th>9</th>\n",
       "      <td>0</td>\n",
       "      <td>229.60</td>\n",
       "    </tr>\n",
       "  </tbody>\n",
       "</table>\n",
       "</div>"
      ],
      "text/plain": [
       "   default  Networth_Next_Year\n",
       "0        0              395.30\n",
       "1        0               36.20\n",
       "2        0               84.00\n",
       "3        0             2041.40\n",
       "4        0               41.80\n",
       "5        0              291.50\n",
       "6        0               93.30\n",
       "7        0              985.10\n",
       "8        0              188.60\n",
       "9        0              229.60"
      ]
     },
     "execution_count": 10,
     "metadata": {},
     "output_type": "execute_result"
    }
   ],
   "source": [
    "Company[['default','Networth_Next_Year']].head(10)"
   ]
  },
  {
   "cell_type": "markdown",
   "metadata": {},
   "source": [
    "#### What does variable 'default' look like"
   ]
  },
  {
   "cell_type": "code",
   "execution_count": 11,
   "metadata": {},
   "outputs": [
    {
     "data": {
      "text/plain": [
       "0    3352\n",
       "1     904\n",
       "Name: default, dtype: int64"
      ]
     },
     "execution_count": 11,
     "metadata": {},
     "output_type": "execute_result"
    }
   ],
   "source": [
    "Company['default'].value_counts()"
   ]
  },
  {
   "cell_type": "markdown",
   "metadata": {},
   "source": [
    "#### Checking proportion of default"
   ]
  },
  {
   "cell_type": "code",
   "execution_count": 12,
   "metadata": {},
   "outputs": [
    {
     "data": {
      "text/plain": [
       "0   0.79\n",
       "1   0.21\n",
       "Name: default, dtype: float64"
      ]
     },
     "execution_count": 12,
     "metadata": {},
     "output_type": "execute_result"
    }
   ],
   "source": [
    "Company['default'].value_counts(normalize = True)"
   ]
  },
  {
   "cell_type": "markdown",
   "metadata": {},
   "source": [
    "## Lets check for missing values in the dataset"
   ]
  },
  {
   "cell_type": "code",
   "execution_count": 13,
   "metadata": {},
   "outputs": [
    {
     "data": {
      "text/plain": [
       "Num                                                  0\n",
       "Networth_Next_Year                                   0\n",
       "Total_assets                                         0\n",
       "Net_worth                                            0\n",
       "Total_income                                       231\n",
       "Change_in_stock                                    550\n",
       "Total_expenses                                     165\n",
       "Profit_after_tax                                   154\n",
       "PBDITA                                             154\n",
       "PBT                                                154\n",
       "Cash_profit                                        154\n",
       "PBDITA_as_perc_of_total_income                      79\n",
       "PBT_as_perc_of_total_income                         79\n",
       "PAT_as_perc_of_total_income                         79\n",
       "Cash_profit_as_perc_of_total_income                 79\n",
       "PAT_as_perc_of_net_worth                             0\n",
       "Sales                                              305\n",
       "Income_from_fincial_services                      1111\n",
       "Other_income                                      1556\n",
       "Total_capital                                        5\n",
       "Reserves_and_funds                                  98\n",
       "Borrowings                                         431\n",
       "Current_liabilities_&_provisions                   110\n",
       "Deferred_tax_liability                            1369\n",
       "Shareholders_funds                                   0\n",
       "Cumulative_retained_profits                         45\n",
       "Capital_employed                                     0\n",
       "TOL_to_TNW                                           0\n",
       "Total_term_liabilities__to__tangible_net_worth       0\n",
       "Contingent_liabilities__to__Net_worth_perc           0\n",
       "Contingent_liabilities                            1402\n",
       "Net_fixed_assets                                   132\n",
       "Investments                                       1715\n",
       "Current_assets                                      80\n",
       "Net_working_capital                                 37\n",
       "Quick_ratio_times                                  105\n",
       "Current_ratio_times                                105\n",
       "Debt_to_equity_ratio_times                           0\n",
       "Cash_to_current_liabilities_times                  105\n",
       "Cash_to_average_cost_of_sales_per_day              100\n",
       "Creditors_turnover                                 391\n",
       "Debtors_turnover                                   385\n",
       "Finished_goods_turnover                            874\n",
       "WIP_turnover                                       764\n",
       "Raw_material_turnover                              428\n",
       "Shares_outstanding                                 810\n",
       "Equity_face_value                                  810\n",
       "EPS                                                  0\n",
       "Adjusted_EPS                                         0\n",
       "Total_liabilities                                    0\n",
       "PE_on_BSE                                         2627\n",
       "default                                              0\n",
       "dtype: int64"
      ]
     },
     "execution_count": 13,
     "metadata": {},
     "output_type": "execute_result"
    }
   ],
   "source": [
    "Company.isnull().sum()"
   ]
  },
  {
   "cell_type": "code",
   "execution_count": 14,
   "metadata": {},
   "outputs": [
    {
     "data": {
      "text/plain": [
       "221312"
      ]
     },
     "execution_count": 14,
     "metadata": {},
     "output_type": "execute_result"
    }
   ],
   "source": [
    "Company.size"
   ]
  },
  {
   "cell_type": "code",
   "execution_count": 15,
   "metadata": {},
   "outputs": [
    {
     "data": {
      "text/plain": [
       "17778"
      ]
     },
     "execution_count": 15,
     "metadata": {},
     "output_type": "execute_result"
    }
   ],
   "source": [
    "Company.isnull().sum().sum()"
   ]
  },
  {
   "cell_type": "markdown",
   "metadata": {},
   "source": [
    "##### There are missing values in the dataset"
   ]
  },
  {
   "cell_type": "code",
   "execution_count": 16,
   "metadata": {},
   "outputs": [],
   "source": [
    "Company_X = Company.drop('default', axis = 1)\n",
    "Company_Y = Company['default']"
   ]
  },
  {
   "cell_type": "code",
   "execution_count": 17,
   "metadata": {},
   "outputs": [
    {
     "data": {
      "text/html": [
       "<div>\n",
       "<style scoped>\n",
       "    .dataframe tbody tr th:only-of-type {\n",
       "        vertical-align: middle;\n",
       "    }\n",
       "\n",
       "    .dataframe tbody tr th {\n",
       "        vertical-align: top;\n",
       "    }\n",
       "\n",
       "    .dataframe thead th {\n",
       "        text-align: right;\n",
       "    }\n",
       "</style>\n",
       "<table border=\"1\" class=\"dataframe\">\n",
       "  <thead>\n",
       "    <tr style=\"text-align: right;\">\n",
       "      <th></th>\n",
       "      <th>Num</th>\n",
       "      <th>Networth_Next_Year</th>\n",
       "      <th>Total_assets</th>\n",
       "      <th>Net_worth</th>\n",
       "      <th>Total_income</th>\n",
       "      <th>Change_in_stock</th>\n",
       "      <th>Total_expenses</th>\n",
       "      <th>Profit_after_tax</th>\n",
       "      <th>PBDITA</th>\n",
       "      <th>PBT</th>\n",
       "      <th>...</th>\n",
       "      <th>Debtors_turnover</th>\n",
       "      <th>Finished_goods_turnover</th>\n",
       "      <th>WIP_turnover</th>\n",
       "      <th>Raw_material_turnover</th>\n",
       "      <th>Shares_outstanding</th>\n",
       "      <th>Equity_face_value</th>\n",
       "      <th>EPS</th>\n",
       "      <th>Adjusted_EPS</th>\n",
       "      <th>Total_liabilities</th>\n",
       "      <th>PE_on_BSE</th>\n",
       "    </tr>\n",
       "  </thead>\n",
       "  <tbody>\n",
       "    <tr>\n",
       "      <th>0</th>\n",
       "      <td>1</td>\n",
       "      <td>395.30</td>\n",
       "      <td>827.60</td>\n",
       "      <td>336.50</td>\n",
       "      <td>534.10</td>\n",
       "      <td>13.50</td>\n",
       "      <td>508.70</td>\n",
       "      <td>38.90</td>\n",
       "      <td>124.40</td>\n",
       "      <td>64.60</td>\n",
       "      <td>...</td>\n",
       "      <td>5.65</td>\n",
       "      <td>3.99</td>\n",
       "      <td>3.37</td>\n",
       "      <td>14.87</td>\n",
       "      <td>8760056.00</td>\n",
       "      <td>10.00</td>\n",
       "      <td>4.44</td>\n",
       "      <td>4.44</td>\n",
       "      <td>827.60</td>\n",
       "      <td>nan</td>\n",
       "    </tr>\n",
       "    <tr>\n",
       "      <th>1</th>\n",
       "      <td>2</td>\n",
       "      <td>36.20</td>\n",
       "      <td>67.70</td>\n",
       "      <td>24.30</td>\n",
       "      <td>137.90</td>\n",
       "      <td>-3.70</td>\n",
       "      <td>131.00</td>\n",
       "      <td>3.20</td>\n",
       "      <td>5.50</td>\n",
       "      <td>1.00</td>\n",
       "      <td>...</td>\n",
       "      <td>nan</td>\n",
       "      <td>nan</td>\n",
       "      <td>nan</td>\n",
       "      <td>nan</td>\n",
       "      <td>nan</td>\n",
       "      <td>nan</td>\n",
       "      <td>0.00</td>\n",
       "      <td>0.00</td>\n",
       "      <td>67.70</td>\n",
       "      <td>nan</td>\n",
       "    </tr>\n",
       "    <tr>\n",
       "      <th>2</th>\n",
       "      <td>3</td>\n",
       "      <td>84.00</td>\n",
       "      <td>238.40</td>\n",
       "      <td>78.90</td>\n",
       "      <td>331.20</td>\n",
       "      <td>-18.10</td>\n",
       "      <td>309.20</td>\n",
       "      <td>3.90</td>\n",
       "      <td>25.80</td>\n",
       "      <td>10.50</td>\n",
       "      <td>...</td>\n",
       "      <td>2.51</td>\n",
       "      <td>17.67</td>\n",
       "      <td>8.76</td>\n",
       "      <td>8.35</td>\n",
       "      <td>nan</td>\n",
       "      <td>nan</td>\n",
       "      <td>0.00</td>\n",
       "      <td>0.00</td>\n",
       "      <td>238.40</td>\n",
       "      <td>nan</td>\n",
       "    </tr>\n",
       "    <tr>\n",
       "      <th>3</th>\n",
       "      <td>4</td>\n",
       "      <td>2041.40</td>\n",
       "      <td>6883.50</td>\n",
       "      <td>1443.30</td>\n",
       "      <td>8448.50</td>\n",
       "      <td>212.20</td>\n",
       "      <td>8482.40</td>\n",
       "      <td>178.30</td>\n",
       "      <td>418.40</td>\n",
       "      <td>185.10</td>\n",
       "      <td>...</td>\n",
       "      <td>1.91</td>\n",
       "      <td>18.14</td>\n",
       "      <td>18.62</td>\n",
       "      <td>11.11</td>\n",
       "      <td>10000000.00</td>\n",
       "      <td>10.00</td>\n",
       "      <td>17.60</td>\n",
       "      <td>17.60</td>\n",
       "      <td>6883.50</td>\n",
       "      <td>nan</td>\n",
       "    </tr>\n",
       "    <tr>\n",
       "      <th>4</th>\n",
       "      <td>5</td>\n",
       "      <td>41.80</td>\n",
       "      <td>90.90</td>\n",
       "      <td>47.00</td>\n",
       "      <td>388.60</td>\n",
       "      <td>3.40</td>\n",
       "      <td>392.70</td>\n",
       "      <td>-0.70</td>\n",
       "      <td>7.20</td>\n",
       "      <td>-0.60</td>\n",
       "      <td>...</td>\n",
       "      <td>68.00</td>\n",
       "      <td>45.87</td>\n",
       "      <td>28.67</td>\n",
       "      <td>19.93</td>\n",
       "      <td>107315.00</td>\n",
       "      <td>100.00</td>\n",
       "      <td>-6.52</td>\n",
       "      <td>-6.52</td>\n",
       "      <td>90.90</td>\n",
       "      <td>nan</td>\n",
       "    </tr>\n",
       "    <tr>\n",
       "      <th>...</th>\n",
       "      <td>...</td>\n",
       "      <td>...</td>\n",
       "      <td>...</td>\n",
       "      <td>...</td>\n",
       "      <td>...</td>\n",
       "      <td>...</td>\n",
       "      <td>...</td>\n",
       "      <td>...</td>\n",
       "      <td>...</td>\n",
       "      <td>...</td>\n",
       "      <td>...</td>\n",
       "      <td>...</td>\n",
       "      <td>...</td>\n",
       "      <td>...</td>\n",
       "      <td>...</td>\n",
       "      <td>...</td>\n",
       "      <td>...</td>\n",
       "      <td>...</td>\n",
       "      <td>...</td>\n",
       "      <td>...</td>\n",
       "      <td>...</td>\n",
       "    </tr>\n",
       "    <tr>\n",
       "      <th>4251</th>\n",
       "      <td>4252</td>\n",
       "      <td>0.20</td>\n",
       "      <td>0.40</td>\n",
       "      <td>0.20</td>\n",
       "      <td>nan</td>\n",
       "      <td>nan</td>\n",
       "      <td>nan</td>\n",
       "      <td>nan</td>\n",
       "      <td>nan</td>\n",
       "      <td>nan</td>\n",
       "      <td>...</td>\n",
       "      <td>0.00</td>\n",
       "      <td>nan</td>\n",
       "      <td>nan</td>\n",
       "      <td>0.00</td>\n",
       "      <td>nan</td>\n",
       "      <td>nan</td>\n",
       "      <td>0.00</td>\n",
       "      <td>0.00</td>\n",
       "      <td>0.40</td>\n",
       "      <td>nan</td>\n",
       "    </tr>\n",
       "    <tr>\n",
       "      <th>4252</th>\n",
       "      <td>4253</td>\n",
       "      <td>93.30</td>\n",
       "      <td>159.60</td>\n",
       "      <td>86.70</td>\n",
       "      <td>172.90</td>\n",
       "      <td>0.10</td>\n",
       "      <td>169.70</td>\n",
       "      <td>3.30</td>\n",
       "      <td>18.40</td>\n",
       "      <td>3.70</td>\n",
       "      <td>...</td>\n",
       "      <td>1.80</td>\n",
       "      <td>11.00</td>\n",
       "      <td>8.28</td>\n",
       "      <td>9.88</td>\n",
       "      <td>8162700.00</td>\n",
       "      <td>10.00</td>\n",
       "      <td>0.42</td>\n",
       "      <td>0.42</td>\n",
       "      <td>159.60</td>\n",
       "      <td>16.81</td>\n",
       "    </tr>\n",
       "    <tr>\n",
       "      <th>4253</th>\n",
       "      <td>4254</td>\n",
       "      <td>932.20</td>\n",
       "      <td>833.80</td>\n",
       "      <td>664.60</td>\n",
       "      <td>2314.70</td>\n",
       "      <td>32.10</td>\n",
       "      <td>2151.60</td>\n",
       "      <td>195.20</td>\n",
       "      <td>348.40</td>\n",
       "      <td>303.00</td>\n",
       "      <td>...</td>\n",
       "      <td>6.08</td>\n",
       "      <td>59.28</td>\n",
       "      <td>31.14</td>\n",
       "      <td>9.87</td>\n",
       "      <td>7479762.00</td>\n",
       "      <td>10.00</td>\n",
       "      <td>26.58</td>\n",
       "      <td>26.58</td>\n",
       "      <td>833.80</td>\n",
       "      <td>5.69</td>\n",
       "    </tr>\n",
       "    <tr>\n",
       "      <th>4254</th>\n",
       "      <td>4255</td>\n",
       "      <td>64.60</td>\n",
       "      <td>95.00</td>\n",
       "      <td>48.50</td>\n",
       "      <td>110.50</td>\n",
       "      <td>4.60</td>\n",
       "      <td>113.50</td>\n",
       "      <td>1.60</td>\n",
       "      <td>9.70</td>\n",
       "      <td>2.60</td>\n",
       "      <td>...</td>\n",
       "      <td>3.71</td>\n",
       "      <td>78.99</td>\n",
       "      <td>11.51</td>\n",
       "      <td>14.95</td>\n",
       "      <td>nan</td>\n",
       "      <td>nan</td>\n",
       "      <td>0.00</td>\n",
       "      <td>0.00</td>\n",
       "      <td>95.00</td>\n",
       "      <td>nan</td>\n",
       "    </tr>\n",
       "    <tr>\n",
       "      <th>4255</th>\n",
       "      <td>4256</td>\n",
       "      <td>0.00</td>\n",
       "      <td>384.60</td>\n",
       "      <td>111.30</td>\n",
       "      <td>345.80</td>\n",
       "      <td>11.30</td>\n",
       "      <td>341.70</td>\n",
       "      <td>15.40</td>\n",
       "      <td>57.60</td>\n",
       "      <td>20.70</td>\n",
       "      <td>...</td>\n",
       "      <td>4.71</td>\n",
       "      <td>53.37</td>\n",
       "      <td>8.33</td>\n",
       "      <td>3.74</td>\n",
       "      <td>960000.00</td>\n",
       "      <td>10.00</td>\n",
       "      <td>15.63</td>\n",
       "      <td>15.63</td>\n",
       "      <td>384.60</td>\n",
       "      <td>nan</td>\n",
       "    </tr>\n",
       "  </tbody>\n",
       "</table>\n",
       "<p>4256 rows × 51 columns</p>\n",
       "</div>"
      ],
      "text/plain": [
       "       Num  Networth_Next_Year  Total_assets  Net_worth  Total_income  \\\n",
       "0        1              395.30        827.60     336.50        534.10   \n",
       "1        2               36.20         67.70      24.30        137.90   \n",
       "2        3               84.00        238.40      78.90        331.20   \n",
       "3        4             2041.40       6883.50    1443.30       8448.50   \n",
       "4        5               41.80         90.90      47.00        388.60   \n",
       "...    ...                 ...           ...        ...           ...   \n",
       "4251  4252                0.20          0.40       0.20           nan   \n",
       "4252  4253               93.30        159.60      86.70        172.90   \n",
       "4253  4254              932.20        833.80     664.60       2314.70   \n",
       "4254  4255               64.60         95.00      48.50        110.50   \n",
       "4255  4256                0.00        384.60     111.30        345.80   \n",
       "\n",
       "      Change_in_stock  Total_expenses  Profit_after_tax  PBDITA    PBT  ...  \\\n",
       "0               13.50          508.70             38.90  124.40  64.60  ...   \n",
       "1               -3.70          131.00              3.20    5.50   1.00  ...   \n",
       "2              -18.10          309.20              3.90   25.80  10.50  ...   \n",
       "3              212.20         8482.40            178.30  418.40 185.10  ...   \n",
       "4                3.40          392.70             -0.70    7.20  -0.60  ...   \n",
       "...               ...             ...               ...     ...    ...  ...   \n",
       "4251              nan             nan               nan     nan    nan  ...   \n",
       "4252             0.10          169.70              3.30   18.40   3.70  ...   \n",
       "4253            32.10         2151.60            195.20  348.40 303.00  ...   \n",
       "4254             4.60          113.50              1.60    9.70   2.60  ...   \n",
       "4255            11.30          341.70             15.40   57.60  20.70  ...   \n",
       "\n",
       "      Debtors_turnover  Finished_goods_turnover  WIP_turnover  \\\n",
       "0                 5.65                     3.99          3.37   \n",
       "1                  nan                      nan           nan   \n",
       "2                 2.51                    17.67          8.76   \n",
       "3                 1.91                    18.14         18.62   \n",
       "4                68.00                    45.87         28.67   \n",
       "...                ...                      ...           ...   \n",
       "4251              0.00                      nan           nan   \n",
       "4252              1.80                    11.00          8.28   \n",
       "4253              6.08                    59.28         31.14   \n",
       "4254              3.71                    78.99         11.51   \n",
       "4255              4.71                    53.37          8.33   \n",
       "\n",
       "      Raw_material_turnover  Shares_outstanding  Equity_face_value   EPS  \\\n",
       "0                     14.87          8760056.00              10.00  4.44   \n",
       "1                       nan                 nan                nan  0.00   \n",
       "2                      8.35                 nan                nan  0.00   \n",
       "3                     11.11         10000000.00              10.00 17.60   \n",
       "4                     19.93           107315.00             100.00 -6.52   \n",
       "...                     ...                 ...                ...   ...   \n",
       "4251                   0.00                 nan                nan  0.00   \n",
       "4252                   9.88          8162700.00              10.00  0.42   \n",
       "4253                   9.87          7479762.00              10.00 26.58   \n",
       "4254                  14.95                 nan                nan  0.00   \n",
       "4255                   3.74           960000.00              10.00 15.63   \n",
       "\n",
       "      Adjusted_EPS  Total_liabilities  PE_on_BSE  \n",
       "0             4.44             827.60        nan  \n",
       "1             0.00              67.70        nan  \n",
       "2             0.00             238.40        nan  \n",
       "3            17.60            6883.50        nan  \n",
       "4            -6.52              90.90        nan  \n",
       "...            ...                ...        ...  \n",
       "4251          0.00               0.40        nan  \n",
       "4252          0.42             159.60      16.81  \n",
       "4253         26.58             833.80       5.69  \n",
       "4254          0.00              95.00        nan  \n",
       "4255         15.63             384.60        nan  \n",
       "\n",
       "[4256 rows x 51 columns]"
      ]
     },
     "execution_count": 17,
     "metadata": {},
     "output_type": "execute_result"
    }
   ],
   "source": [
    "Company_X"
   ]
  },
  {
   "cell_type": "markdown",
   "metadata": {},
   "source": [
    "#### Let's check the number of outliers per column"
   ]
  },
  {
   "cell_type": "code",
   "execution_count": 18,
   "metadata": {},
   "outputs": [],
   "source": [
    "Q1 = Company_X.quantile(0.25)\n",
    "Q3 = Company_X.quantile(0.75)\n",
    "IQR = Q3 - Q1\n",
    "UL = Q3 + 1.5*IQR\n",
    "LL = Q1 - 1.5*IQR"
   ]
  },
  {
   "cell_type": "code",
   "execution_count": 19,
   "metadata": {},
   "outputs": [
    {
     "data": {
      "text/plain": [
       "Num                                                 0\n",
       "Networth_Next_Year                                624\n",
       "Total_assets                                      585\n",
       "Net_worth                                         595\n",
       "Total_income                                      508\n",
       "Change_in_stock                                   750\n",
       "Total_expenses                                    518\n",
       "Profit_after_tax                                  712\n",
       "PBDITA                                            584\n",
       "PBT                                               704\n",
       "Cash_profit                                       627\n",
       "PBDITA_as_perc_of_total_income                    346\n",
       "PBT_as_perc_of_total_income                       546\n",
       "PAT_as_perc_of_total_income                       610\n",
       "Cash_profit_as_perc_of_total_income               426\n",
       "PAT_as_perc_of_net_worth                          427\n",
       "Sales                                             500\n",
       "Income_from_fincial_services                      517\n",
       "Other_income                                      389\n",
       "Total_capital                                     551\n",
       "Reserves_and_funds                                643\n",
       "Borrowings                                        532\n",
       "Current_liabilities_&_provisions                  581\n",
       "Deferred_tax_liability                            406\n",
       "Shareholders_funds                                588\n",
       "Cumulative_retained_profits                       699\n",
       "Capital_employed                                  572\n",
       "TOL_to_TNW                                        414\n",
       "Total_term_liabilities__to__tangible_net_worth    406\n",
       "Contingent_liabilities__to__Net_worth_perc        478\n",
       "Contingent_liabilities                            393\n",
       "Net_fixed_assets                                  569\n",
       "Investments                                       451\n",
       "Current_assets                                    532\n",
       "Net_working_capital                               806\n",
       "Quick_ratio_times                                 371\n",
       "Current_ratio_times                               397\n",
       "Debt_to_equity_ratio_times                        381\n",
       "Cash_to_current_liabilities_times                 539\n",
       "Cash_to_average_cost_of_sales_per_day             583\n",
       "Creditors_turnover                                442\n",
       "Debtors_turnover                                  408\n",
       "Finished_goods_turnover                           399\n",
       "WIP_turnover                                      378\n",
       "Raw_material_turnover                             296\n",
       "Shares_outstanding                                476\n",
       "Equity_face_value                                 533\n",
       "EPS                                               638\n",
       "Adjusted_EPS                                      694\n",
       "Total_liabilities                                 585\n",
       "PE_on_BSE                                         237\n",
       "dtype: int64"
      ]
     },
     "execution_count": 19,
     "metadata": {},
     "output_type": "execute_result"
    }
   ],
   "source": [
    "((Company_X > UL) | (Company_X < LL)).sum()"
   ]
  },
  {
   "cell_type": "code",
   "execution_count": 20,
   "metadata": {},
   "outputs": [],
   "source": [
    "Company_X[((Company_X > UL) | (Company_X < LL))]= np.nan"
   ]
  },
  {
   "cell_type": "code",
   "execution_count": 21,
   "metadata": {},
   "outputs": [
    {
     "data": {
      "text/plain": [
       "Num                                                  0\n",
       "Networth_Next_Year                                 624\n",
       "Total_assets                                       585\n",
       "Net_worth                                          595\n",
       "Total_income                                       739\n",
       "Change_in_stock                                   1300\n",
       "Total_expenses                                     683\n",
       "Profit_after_tax                                   866\n",
       "PBDITA                                             738\n",
       "PBT                                                858\n",
       "Cash_profit                                        781\n",
       "PBDITA_as_perc_of_total_income                     425\n",
       "PBT_as_perc_of_total_income                        625\n",
       "PAT_as_perc_of_total_income                        689\n",
       "Cash_profit_as_perc_of_total_income                505\n",
       "PAT_as_perc_of_net_worth                           427\n",
       "Sales                                              805\n",
       "Income_from_fincial_services                      1628\n",
       "Other_income                                      1945\n",
       "Total_capital                                      556\n",
       "Reserves_and_funds                                 741\n",
       "Borrowings                                         963\n",
       "Current_liabilities_&_provisions                   691\n",
       "Deferred_tax_liability                            1775\n",
       "Shareholders_funds                                 588\n",
       "Cumulative_retained_profits                        744\n",
       "Capital_employed                                   572\n",
       "TOL_to_TNW                                         414\n",
       "Total_term_liabilities__to__tangible_net_worth     406\n",
       "Contingent_liabilities__to__Net_worth_perc         478\n",
       "Contingent_liabilities                            1795\n",
       "Net_fixed_assets                                   701\n",
       "Investments                                       2166\n",
       "Current_assets                                     612\n",
       "Net_working_capital                                843\n",
       "Quick_ratio_times                                  476\n",
       "Current_ratio_times                                502\n",
       "Debt_to_equity_ratio_times                         381\n",
       "Cash_to_current_liabilities_times                  644\n",
       "Cash_to_average_cost_of_sales_per_day              683\n",
       "Creditors_turnover                                 833\n",
       "Debtors_turnover                                   793\n",
       "Finished_goods_turnover                           1273\n",
       "WIP_turnover                                      1142\n",
       "Raw_material_turnover                              724\n",
       "Shares_outstanding                                1286\n",
       "Equity_face_value                                 1343\n",
       "EPS                                                638\n",
       "Adjusted_EPS                                       694\n",
       "Total_liabilities                                  585\n",
       "PE_on_BSE                                         2864\n",
       "dtype: int64"
      ]
     },
     "execution_count": 21,
     "metadata": {},
     "output_type": "execute_result"
    }
   ],
   "source": [
    "Company_X.isnull().sum()"
   ]
  },
  {
   "cell_type": "code",
   "execution_count": 22,
   "metadata": {},
   "outputs": [
    {
     "data": {
      "text/plain": [
       "43724"
      ]
     },
     "execution_count": 22,
     "metadata": {},
     "output_type": "execute_result"
    }
   ],
   "source": [
    "Company_X.isnull().sum().sum()"
   ]
  },
  {
   "cell_type": "code",
   "execution_count": 23,
   "metadata": {},
   "outputs": [],
   "source": [
    "Company_X = Company_X.drop(['Num', 'Networth_Next_Year', 'Equity_face_value'], axis = 1)"
   ]
  },
  {
   "cell_type": "code",
   "execution_count": 24,
   "metadata": {},
   "outputs": [
    {
     "data": {
      "text/plain": [
       "(4256, 48)"
      ]
     },
     "execution_count": 24,
     "metadata": {},
     "output_type": "execute_result"
    }
   ],
   "source": [
    "Company_X.shape"
   ]
  },
  {
   "cell_type": "code",
   "execution_count": 25,
   "metadata": {},
   "outputs": [],
   "source": [
    "Company_sub1 = pd.concat([Company_X, Company_Y], axis =1 )"
   ]
  },
  {
   "cell_type": "markdown",
   "metadata": {},
   "source": [
    "#### Let's visually inspect the missing values in our data"
   ]
  },
  {
   "cell_type": "code",
   "execution_count": 26,
   "metadata": {},
   "outputs": [
    {
     "data": {
      "image/png": "[encoded data removed]",
      "text/plain": [
       "<Figure size 864x576 with 1 Axes>"
      ]
     },
     "metadata": {
      "needs_background": "light"
     },
     "output_type": "display_data"
    }
   ],
   "source": [
    "plt.figure(figsize = (12,8))\n",
    "sns.heatmap(Company_sub1.isnull(), cbar = False, cmap = 'coolwarm', yticklabels = False)\n",
    "plt.show()"
   ]
  },
  {
   "cell_type": "markdown",
   "metadata": {},
   "source": [
    "#### We should inspect total missing values by each row ."
   ]
  },
  {
   "cell_type": "code",
   "execution_count": 27,
   "metadata": {},
   "outputs": [
    {
     "data": {
      "text/plain": [
       "0        4\n",
       "1        8\n",
       "2        3\n",
       "3       21\n",
       "4        4\n",
       "        ..\n",
       "4251    24\n",
       "4252     5\n",
       "4253     8\n",
       "4254     5\n",
       "4255     2\n",
       "Length: 4256, dtype: int64"
      ]
     },
     "execution_count": 27,
     "metadata": {},
     "output_type": "execute_result"
    }
   ],
   "source": [
    "Company_sub1.isnull().sum(axis = 1)"
   ]
  },
  {
   "cell_type": "code",
   "execution_count": 28,
   "metadata": {},
   "outputs": [],
   "source": [
    "Company_sub1_temp = Company_sub1[Company_sub1.isnull().sum(axis = 1) <= 5]"
   ]
  },
  {
   "cell_type": "code",
   "execution_count": 29,
   "metadata": {},
   "outputs": [
    {
     "data": {
      "text/plain": [
       "(1657, 49)"
      ]
     },
     "execution_count": 29,
     "metadata": {},
     "output_type": "execute_result"
    }
   ],
   "source": [
    "Company_sub1_temp.shape"
   ]
  },
  {
   "cell_type": "code",
   "execution_count": 30,
   "metadata": {},
   "outputs": [
    {
     "data": {
      "text/plain": [
       "0    1367\n",
       "1     290\n",
       "Name: default, dtype: int64"
      ]
     },
     "execution_count": 30,
     "metadata": {},
     "output_type": "execute_result"
    }
   ],
   "source": [
    "Company_sub1_temp['default'].value_counts()"
   ]
  },
  {
   "cell_type": "code",
   "execution_count": 31,
   "metadata": {},
   "outputs": [
    {
     "data": {
      "text/plain": [
       "0.32079646017699115"
      ]
     },
     "execution_count": 31,
     "metadata": {},
     "output_type": "execute_result"
    }
   ],
   "source": [
    "290/904"
   ]
  },
  {
   "cell_type": "markdown",
   "metadata": {},
   "source": [
    "if we consider availability of features for deciding the observations to be considered, we will end up losing more than 90% of the actual defaulters."
   ]
  },
  {
   "cell_type": "code",
   "execution_count": 32,
   "metadata": {},
   "outputs": [
    {
     "data": {
      "text/plain": [
       "0    3352\n",
       "1     904\n",
       "Name: default, dtype: int64"
      ]
     },
     "execution_count": 32,
     "metadata": {},
     "output_type": "execute_result"
    }
   ],
   "source": [
    "Company_sub1['default'].value_counts()"
   ]
  },
  {
   "cell_type": "code",
   "execution_count": 33,
   "metadata": {},
   "outputs": [
    {
     "data": {
      "text/plain": [
       "PE_on_BSE                                        0.67\n",
       "Investments                                      0.51\n",
       "Other_income                                     0.46\n",
       "Contingent_liabilities                           0.42\n",
       "Deferred_tax_liability                           0.42\n",
       "Income_from_fincial_services                     0.38\n",
       "Change_in_stock                                  0.31\n",
       "Shares_outstanding                               0.30\n",
       "Finished_goods_turnover                          0.30\n",
       "WIP_turnover                                     0.27\n",
       "Borrowings                                       0.23\n",
       "Profit_after_tax                                 0.20\n",
       "PBT                                              0.20\n",
       "Net_working_capital                              0.20\n",
       "Creditors_turnover                               0.20\n",
       "Sales                                            0.19\n",
       "Debtors_turnover                                 0.19\n",
       "Cash_profit                                      0.18\n",
       "Cumulative_retained_profits                      0.17\n",
       "Reserves_and_funds                               0.17\n",
       "Total_income                                     0.17\n",
       "PBDITA                                           0.17\n",
       "Raw_material_turnover                            0.17\n",
       "Net_fixed_assets                                 0.16\n",
       "Adjusted_EPS                                     0.16\n",
       "Current_liabilities_&_provisions                 0.16\n",
       "PAT_as_perc_of_total_income                      0.16\n",
       "Total_expenses                                   0.16\n",
       "Cash_to_average_cost_of_sales_per_day            0.16\n",
       "Cash_to_current_liabilities_times                0.15\n",
       "EPS                                              0.15\n",
       "PBT_as_perc_of_total_income                      0.15\n",
       "Current_assets                                   0.14\n",
       "Net_worth                                        0.14\n",
       "Shareholders_funds                               0.14\n",
       "Total_liabilities                                0.14\n",
       "Total_assets                                     0.14\n",
       "Capital_employed                                 0.13\n",
       "Total_capital                                    0.13\n",
       "Cash_profit_as_perc_of_total_income              0.12\n",
       "Current_ratio_times                              0.12\n",
       "Contingent_liabilities__to__Net_worth_perc       0.11\n",
       "Quick_ratio_times                                0.11\n",
       "PAT_as_perc_of_net_worth                         0.10\n",
       "PBDITA_as_perc_of_total_income                   0.10\n",
       "TOL_to_TNW                                       0.10\n",
       "Total_term_liabilities__to__tangible_net_worth   0.10\n",
       "Debt_to_equity_ratio_times                       0.09\n",
       "default                                          0.00\n",
       "dtype: float64"
      ]
     },
     "execution_count": 33,
     "metadata": {},
     "output_type": "execute_result"
    }
   ],
   "source": [
    "Company_sub1.isnull().sum().sort_values(ascending = False)/Company_sub1.index.size"
   ]
  },
  {
   "cell_type": "markdown",
   "metadata": {},
   "source": [
    "## Dropping columns with more than 30% missing values"
   ]
  },
  {
   "cell_type": "code",
   "execution_count": 34,
   "metadata": {},
   "outputs": [],
   "source": [
    "Company_sub2 = Company_sub1.drop(['PE_on_BSE', 'Change_in_stock',\n",
    "                             'Investments', 'Other_income', 'Contingent_liabilities', \n",
    "                             'Deferred_tax_liability', 'Income_from_fincial_services',\n",
    "                                  'Shares_outstanding'],\n",
    "                           axis = 1)"
   ]
  },
  {
   "cell_type": "code",
   "execution_count": 35,
   "metadata": {},
   "outputs": [
    {
     "data": {
      "text/plain": [
       "(4256, 41)"
      ]
     },
     "execution_count": 35,
     "metadata": {},
     "output_type": "execute_result"
    }
   ],
   "source": [
    "Company_sub2.shape"
   ]
  },
  {
   "cell_type": "markdown",
   "metadata": {},
   "source": [
    "#### Segregate the predictors and response"
   ]
  },
  {
   "cell_type": "code",
   "execution_count": 36,
   "metadata": {},
   "outputs": [],
   "source": [
    "predictors = Company_sub2.drop('default', axis = 1)\n",
    "response = Company_sub2['default']"
   ]
  },
  {
   "cell_type": "markdown",
   "metadata": {},
   "source": [
    "#### Scale the predictors"
   ]
  },
  {
   "cell_type": "code",
   "execution_count": 37,
   "metadata": {},
   "outputs": [],
   "source": [
    "from sklearn.preprocessing import StandardScaler\n",
    "scaler = StandardScaler()\n",
    "scaled_predictors = pd.DataFrame(scaler.fit_transform(predictors), columns = predictors.columns)"
   ]
  },
  {
   "cell_type": "code",
   "execution_count": 38,
   "metadata": {},
   "outputs": [],
   "source": [
    "Company_sub3 = pd.concat([scaled_predictors, response], axis = 1)"
   ]
  },
  {
   "cell_type": "markdown",
   "metadata": {},
   "source": [
    "#### Imputing the remaining missing values"
   ]
  },
  {
   "cell_type": "code",
   "execution_count": 39,
   "metadata": {},
   "outputs": [],
   "source": [
    "from sklearn.impute import KNNImputer"
   ]
  },
  {
   "cell_type": "code",
   "execution_count": 40,
   "metadata": {},
   "outputs": [],
   "source": [
    "imputer = KNNImputer(n_neighbors=10)"
   ]
  },
  {
   "cell_type": "code",
   "execution_count": 41,
   "metadata": {},
   "outputs": [],
   "source": [
    "Company_imputed = pd.DataFrame(imputer.fit_transform(Company_sub3), columns = Company_sub3.columns)"
   ]
  },
  {
   "cell_type": "code",
   "execution_count": 42,
   "metadata": {},
   "outputs": [
    {
     "data": {
      "text/plain": [
       "Total_assets                                      0\n",
       "Net_worth                                         0\n",
       "Total_income                                      0\n",
       "Total_expenses                                    0\n",
       "Profit_after_tax                                  0\n",
       "PBDITA                                            0\n",
       "PBT                                               0\n",
       "Cash_profit                                       0\n",
       "PBDITA_as_perc_of_total_income                    0\n",
       "PBT_as_perc_of_total_income                       0\n",
       "PAT_as_perc_of_total_income                       0\n",
       "Cash_profit_as_perc_of_total_income               0\n",
       "PAT_as_perc_of_net_worth                          0\n",
       "Sales                                             0\n",
       "Total_capital                                     0\n",
       "Reserves_and_funds                                0\n",
       "Borrowings                                        0\n",
       "Current_liabilities_&_provisions                  0\n",
       "Shareholders_funds                                0\n",
       "Cumulative_retained_profits                       0\n",
       "Capital_employed                                  0\n",
       "TOL_to_TNW                                        0\n",
       "Total_term_liabilities__to__tangible_net_worth    0\n",
       "Contingent_liabilities__to__Net_worth_perc        0\n",
       "Net_fixed_assets                                  0\n",
       "Current_assets                                    0\n",
       "Net_working_capital                               0\n",
       "Quick_ratio_times                                 0\n",
       "Current_ratio_times                               0\n",
       "Debt_to_equity_ratio_times                        0\n",
       "Cash_to_current_liabilities_times                 0\n",
       "Cash_to_average_cost_of_sales_per_day             0\n",
       "Creditors_turnover                                0\n",
       "Debtors_turnover                                  0\n",
       "Finished_goods_turnover                           0\n",
       "WIP_turnover                                      0\n",
       "Raw_material_turnover                             0\n",
       "EPS                                               0\n",
       "Adjusted_EPS                                      0\n",
       "Total_liabilities                                 0\n",
       "default                                           0\n",
       "dtype: int64"
      ]
     },
     "execution_count": 42,
     "metadata": {},
     "output_type": "execute_result"
    }
   ],
   "source": [
    "Company_imputed.isnull().sum()"
   ]
  },
  {
   "cell_type": "markdown",
   "metadata": {},
   "source": [
    "#### Inspect possible correlations between independent variables"
   ]
  },
  {
   "cell_type": "code",
   "execution_count": 43,
   "metadata": {},
   "outputs": [
    {
     "data": {
      "text/plain": [
       "<matplotlib.axes._subplots.AxesSubplot at 0x2641245d448>"
      ]
     },
     "execution_count": 43,
     "metadata": {},
     "output_type": "execute_result"
    },
    {
     "data": {
      "image/png": "[encoded data removed]",
      "text/plain": [
       "<Figure size 864x576 with 2 Axes>"
      ]
     },
     "metadata": {
      "needs_background": "light"
     },
     "output_type": "display_data"
    }
   ],
   "source": [
    "plt.figure(figsize = (12,8))\n",
    "cor_matrix = Company_imputed.drop('default', axis = 1).corr()\n",
    "sns.heatmap(cor_matrix, cmap = 'plasma', vmin = -1, vmax= 1)"
   ]
  },
  {
   "cell_type": "code",
   "execution_count": 44,
   "metadata": {},
   "outputs": [],
   "source": [
    "predictors = Company_imputed.drop('default', axis = 1)\n",
    "response = Company_imputed['default']"
   ]
  },
  {
   "cell_type": "code",
   "execution_count": 62,
   "metadata": {},
   "outputs": [],
   "source": [
    "from sklearn.model_selection import train_test_split\n",
    "from sklearn.feature_selection import RFE\n",
    "from sklearn.linear_model import LogisticRegression"
   ]
  },
  {
   "cell_type": "markdown",
   "metadata": {},
   "source": [
    "#### Splitting the data into train and test sets"
   ]
  },
  {
   "cell_type": "code",
   "execution_count": 46,
   "metadata": {},
   "outputs": [],
   "source": [
    "X_train, X_test, y_train, y_test = train_test_split(predictors, response, \n",
    "                                                    test_size = 0.3, random_state = 2)"
   ]
  },
  {
   "cell_type": "markdown",
   "metadata": {},
   "source": [
    "#### For modeling we will use Logistic Regression with recursive feature elimination"
   ]
  },
  {
   "cell_type": "code",
   "execution_count": 47,
   "metadata": {},
   "outputs": [],
   "source": [
    "LogR = LogisticRegression()"
   ]
  },
  {
   "cell_type": "code",
   "execution_count": 48,
   "metadata": {},
   "outputs": [],
   "source": [
    "selector = RFE(estimator = LogR, n_features_to_select=15, step=1)"
   ]
  },
  {
   "cell_type": "code",
   "execution_count": 49,
   "metadata": {},
   "outputs": [],
   "source": [
    "selector = selector.fit(X_train, y_train)"
   ]
  },
  {
   "cell_type": "code",
   "execution_count": 50,
   "metadata": {},
   "outputs": [
    {
     "data": {
      "text/plain": [
       "15"
      ]
     },
     "execution_count": 50,
     "metadata": {},
     "output_type": "execute_result"
    }
   ],
   "source": [
    "selector.n_features_"
   ]
  },
  {
   "cell_type": "code",
   "execution_count": 51,
   "metadata": {},
   "outputs": [
    {
     "data": {
      "text/plain": [
       "array([24,  1,  7,  1,  6,  1,  5,  1,  8, 20,  4,  1, 25,  1, 26,  1, 16,\n",
       "       21,  1,  1, 11, 12, 17,  1,  3,  2, 22, 19,  1, 18,  9, 10, 13, 14,\n",
       "        1,  1,  1, 15,  1, 23])"
      ]
     },
     "execution_count": 51,
     "metadata": {},
     "output_type": "execute_result"
    }
   ],
   "source": [
    "selector.ranking_"
   ]
  },
  {
   "cell_type": "code",
   "execution_count": 52,
   "metadata": {},
   "outputs": [
    {
     "data": {
      "text/html": [
       "<div>\n",
       "<style scoped>\n",
       "    .dataframe tbody tr th:only-of-type {\n",
       "        vertical-align: middle;\n",
       "    }\n",
       "\n",
       "    .dataframe tbody tr th {\n",
       "        vertical-align: top;\n",
       "    }\n",
       "\n",
       "    .dataframe thead th {\n",
       "        text-align: right;\n",
       "    }\n",
       "</style>\n",
       "<table border=\"1\" class=\"dataframe\">\n",
       "  <thead>\n",
       "    <tr style=\"text-align: right;\">\n",
       "      <th></th>\n",
       "      <th>Feature</th>\n",
       "      <th>Rank</th>\n",
       "    </tr>\n",
       "  </thead>\n",
       "  <tbody>\n",
       "    <tr>\n",
       "      <th>1</th>\n",
       "      <td>Net_worth</td>\n",
       "      <td>1</td>\n",
       "    </tr>\n",
       "    <tr>\n",
       "      <th>3</th>\n",
       "      <td>Total_expenses</td>\n",
       "      <td>1</td>\n",
       "    </tr>\n",
       "    <tr>\n",
       "      <th>5</th>\n",
       "      <td>PBDITA</td>\n",
       "      <td>1</td>\n",
       "    </tr>\n",
       "    <tr>\n",
       "      <th>7</th>\n",
       "      <td>Cash_profit</td>\n",
       "      <td>1</td>\n",
       "    </tr>\n",
       "    <tr>\n",
       "      <th>11</th>\n",
       "      <td>Cash_profit_as_perc_of_total_income</td>\n",
       "      <td>1</td>\n",
       "    </tr>\n",
       "    <tr>\n",
       "      <th>13</th>\n",
       "      <td>Sales</td>\n",
       "      <td>1</td>\n",
       "    </tr>\n",
       "    <tr>\n",
       "      <th>15</th>\n",
       "      <td>Reserves_and_funds</td>\n",
       "      <td>1</td>\n",
       "    </tr>\n",
       "    <tr>\n",
       "      <th>18</th>\n",
       "      <td>Shareholders_funds</td>\n",
       "      <td>1</td>\n",
       "    </tr>\n",
       "    <tr>\n",
       "      <th>19</th>\n",
       "      <td>Cumulative_retained_profits</td>\n",
       "      <td>1</td>\n",
       "    </tr>\n",
       "    <tr>\n",
       "      <th>23</th>\n",
       "      <td>Contingent_liabilities__to__Net_worth_perc</td>\n",
       "      <td>1</td>\n",
       "    </tr>\n",
       "    <tr>\n",
       "      <th>28</th>\n",
       "      <td>Current_ratio_times</td>\n",
       "      <td>1</td>\n",
       "    </tr>\n",
       "    <tr>\n",
       "      <th>34</th>\n",
       "      <td>Finished_goods_turnover</td>\n",
       "      <td>1</td>\n",
       "    </tr>\n",
       "    <tr>\n",
       "      <th>35</th>\n",
       "      <td>WIP_turnover</td>\n",
       "      <td>1</td>\n",
       "    </tr>\n",
       "    <tr>\n",
       "      <th>36</th>\n",
       "      <td>Raw_material_turnover</td>\n",
       "      <td>1</td>\n",
       "    </tr>\n",
       "    <tr>\n",
       "      <th>38</th>\n",
       "      <td>Adjusted_EPS</td>\n",
       "      <td>1</td>\n",
       "    </tr>\n",
       "  </tbody>\n",
       "</table>\n",
       "</div>"
      ],
      "text/plain": [
       "                                       Feature  Rank\n",
       "1                                    Net_worth     1\n",
       "3                               Total_expenses     1\n",
       "5                                       PBDITA     1\n",
       "7                                  Cash_profit     1\n",
       "11         Cash_profit_as_perc_of_total_income     1\n",
       "13                                       Sales     1\n",
       "15                          Reserves_and_funds     1\n",
       "18                          Shareholders_funds     1\n",
       "19                 Cumulative_retained_profits     1\n",
       "23  Contingent_liabilities__to__Net_worth_perc     1\n",
       "28                         Current_ratio_times     1\n",
       "34                     Finished_goods_turnover     1\n",
       "35                                WIP_turnover     1\n",
       "36                       Raw_material_turnover     1\n",
       "38                                Adjusted_EPS     1"
      ]
     },
     "execution_count": 52,
     "metadata": {},
     "output_type": "execute_result"
    }
   ],
   "source": [
    "df = pd.DataFrame({'Feature': scaled_predictors.columns, 'Rank': selector.ranking_})\n",
    "df[df['Rank'] == 1]"
   ]
  },
  {
   "cell_type": "markdown",
   "metadata": {},
   "source": [
    "#### Validating the model on train and test set"
   ]
  },
  {
   "cell_type": "code",
   "execution_count": 53,
   "metadata": {},
   "outputs": [],
   "source": [
    "from sklearn.metrics import confusion_matrix, classification_report"
   ]
  },
  {
   "cell_type": "code",
   "execution_count": 54,
   "metadata": {},
   "outputs": [],
   "source": [
    "pred_train = selector.predict(X_train)\n",
    "pred_test = selector.predict(X_test)"
   ]
  },
  {
   "cell_type": "code",
   "execution_count": 55,
   "metadata": {},
   "outputs": [
    {
     "name": "stdout",
     "output_type": "stream",
     "text": [
      "[[2350    2]\n",
      " [ 620    7]]\n"
     ]
    }
   ],
   "source": [
    "print(confusion_matrix(y_train, pred_train))"
   ]
  },
  {
   "cell_type": "code",
   "execution_count": 56,
   "metadata": {},
   "outputs": [
    {
     "name": "stdout",
     "output_type": "stream",
     "text": [
      "              precision    recall  f1-score   support\n",
      "\n",
      "         0.0       0.79      1.00      0.88      2352\n",
      "         1.0       0.78      0.01      0.02       627\n",
      "\n",
      "    accuracy                           0.79      2979\n",
      "   macro avg       0.78      0.51      0.45      2979\n",
      "weighted avg       0.79      0.79      0.70      2979\n",
      "\n"
     ]
    }
   ],
   "source": [
    "print(classification_report(y_train, pred_train))"
   ]
  },
  {
   "cell_type": "code",
   "execution_count": 57,
   "metadata": {},
   "outputs": [
    {
     "name": "stdout",
     "output_type": "stream",
     "text": [
      "[[993   7]\n",
      " [274   3]]\n"
     ]
    }
   ],
   "source": [
    "print(confusion_matrix(y_test, pred_test))"
   ]
  },
  {
   "cell_type": "code",
   "execution_count": 58,
   "metadata": {},
   "outputs": [
    {
     "name": "stdout",
     "output_type": "stream",
     "text": [
      "              precision    recall  f1-score   support\n",
      "\n",
      "         0.0       0.78      0.99      0.88      1000\n",
      "         1.0       0.30      0.01      0.02       277\n",
      "\n",
      "    accuracy                           0.78      1277\n",
      "   macro avg       0.54      0.50      0.45      1277\n",
      "weighted avg       0.68      0.78      0.69      1277\n",
      "\n"
     ]
    }
   ],
   "source": [
    "print(classification_report(y_test, pred_test))"
   ]
  },
  {
   "cell_type": "markdown",
   "metadata": {},
   "source": [
    "We see poor recall score for both train and test\n",
    "\n",
    "Since only 7% of the total data had defaults, we will now try to balance the data before fiting the model."
   ]
  },
  {
   "cell_type": "code",
   "execution_count": null,
   "metadata": {},
   "outputs": [],
   "source": [
    "from imblearn.over_sampling import SMOTE \n",
    "sm = SMOTE(random_state=33)\n",
    "X_res, y_res = sm.fit_resample(X_train, y_train)"
   ]
  },
  {
   "cell_type": "code",
   "execution_count": null,
   "metadata": {},
   "outputs": [],
   "source": [
    "selector_smote = selector.fit(X_res, y_res)"
   ]
  },
  {
   "cell_type": "code",
   "execution_count": null,
   "metadata": {},
   "outputs": [],
   "source": [
    "selector_smote.n_features_"
   ]
  },
  {
   "cell_type": "code",
   "execution_count": null,
   "metadata": {},
   "outputs": [],
   "source": [
    "pred_train_smote = selector_smote.predict(X_res)\n",
    "pred_test_smote = selector_smote.predict(X_test)"
   ]
  },
  {
   "cell_type": "code",
   "execution_count": null,
   "metadata": {},
   "outputs": [],
   "source": [
    "print(classification_report(y_res, pred_train_smote))"
   ]
  },
  {
   "cell_type": "code",
   "execution_count": null,
   "metadata": {},
   "outputs": [],
   "source": [
    "print(classification_report(y_test, pred_test_smote))"
   ]
  }
 ],
 "metadata": {
  "kernelspec": {
   "display_name": "Python 3",
   "language": "python",
   "name": "python3"
  },
  "language_info": {
   "codemirror_mode": {
    "name": "ipython",
    "version": 3
   },
   "file_extension": ".py",
   "mimetype": "text/x-python",
   "name": "python",
   "nbconvert_exporter": "python",
   "pygments_lexer": "ipython3",
   "version": "3.7.6"
  }
 },
 "nbformat": 4,
 "nbformat_minor": 4
}
